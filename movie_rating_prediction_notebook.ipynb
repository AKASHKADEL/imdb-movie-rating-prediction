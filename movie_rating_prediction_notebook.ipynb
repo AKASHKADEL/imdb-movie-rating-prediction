{
 "cells": [
  {
   "cell_type": "code",
   "execution_count": 265,
   "metadata": {
    "collapsed": true
   },
   "outputs": [],
   "source": [
    "# Author: AKASH KADEL\n",
    "# Date: 05/13/2019"
   ]
  },
  {
   "cell_type": "markdown",
   "metadata": {},
   "source": [
    "### This notebook is divided into four main sections:\n",
    "1. Baseline data: Training and testing model with basic movie details. <ul><li>Models used : OLS regression , which acts as the baseline</li><li>R2 score obtained is <u>0.01</u></li></ul>\n",
    "2. Adding director names to the data prepared in the first step. This adds a lot of dimensionailty in the dataset. <ul><li>Models used: OLS, lasso, ridge</li><li>Max R2 score obtained is <u>0.03</u></li></ul>\n",
    "3. Adding Genres information to the data prepared in the first step.  <ul><li>Models used: OLS, lasso, ridge, Random Forest Regression, Adaboost Regression</li><li>Max R2 score obtained is <u>0.25</u></li></ul>\n",
    "4. Adding Genres and director information to the data prepared in the first step.  <ul><li>Models used: OLS, lasso, ridge, Random Forest Regression, Adaboost Regression</li><li>Max R2 score obtained is <u>0.26</u></li></ul>\n"
   ]
  },
  {
   "cell_type": "markdown",
   "metadata": {},
   "source": [
    "<b> <i><u>Note:</u></i> Due to time and computing contraints, I could try only a limited set of experiments with the data and the hyperparameter values for the algorithms. I have explained more in the Future Section (at the bottom) section"
   ]
  },
  {
   "cell_type": "code",
   "execution_count": 122,
   "metadata": {
    "collapsed": false
   },
   "outputs": [],
   "source": [
    "import numpy as np\n",
    "import pandas as pd\n",
    "import tqdm\n",
    "import matplotlib.pyplot as plt\n",
    "from collections import Counter\n",
    "import operator\n",
    "\n",
    "from sklearn.model_selection import cross_val_score\n",
    "from sklearn.ensemble import RandomForestRegressor,AdaBoostRegressor\n",
    "from sklearn import preprocessing\n",
    "from sklearn.preprocessing import StandardScaler\n",
    "from sklearn.model_selection import train_test_split\n",
    "from sklearn.linear_model import LinearRegression, Lasso, Ridge\n",
    "from sklearn.metrics import mean_squared_error, r2_score\n",
    "\n",
    "# Reading data:\n",
    "ratings = pd.read_csv('data/title.ratings.tsv/data.tsv', sep='\\t')\n",
    "title_akas = pd.read_csv('data/title.akas.tsv/data.tsv', sep='\\t')\n",
    "title_principals = pd.read_csv('data/title.principals.tsv/data.tsv', sep='\\t')\n",
    "title_episode = pd.read_csv('data/title.episode.tsv/data.tsv', sep='\\t')\n",
    "title_crew = pd.read_csv('data/title.crew.tsv/data.tsv', sep='\\t')\n",
    "name_basics = pd.read_csv('data/name.basics.tsv/data.tsv', sep='\\t')\n",
    "title_basics = pd.read_csv('data/title.basics.tsv/data.tsv', sep='\\t')"
   ]
  },
  {
   "cell_type": "markdown",
   "metadata": {},
   "source": [
    "## 1. title_akas dataset:"
   ]
  },
  {
   "cell_type": "code",
   "execution_count": 2,
   "metadata": {
    "collapsed": false
   },
   "outputs": [
    {
     "data": {
      "text/html": [
       "<div>\n",
       "<style scoped>\n",
       "    .dataframe tbody tr th:only-of-type {\n",
       "        vertical-align: middle;\n",
       "    }\n",
       "\n",
       "    .dataframe tbody tr th {\n",
       "        vertical-align: top;\n",
       "    }\n",
       "\n",
       "    .dataframe thead th {\n",
       "        text-align: right;\n",
       "    }\n",
       "</style>\n",
       "<table border=\"1\" class=\"dataframe\">\n",
       "  <thead>\n",
       "    <tr style=\"text-align: right;\">\n",
       "      <th></th>\n",
       "      <th>titleId</th>\n",
       "      <th>ordering</th>\n",
       "      <th>title</th>\n",
       "      <th>region</th>\n",
       "      <th>language</th>\n",
       "      <th>types</th>\n",
       "      <th>attributes</th>\n",
       "      <th>isOriginalTitle</th>\n",
       "    </tr>\n",
       "  </thead>\n",
       "  <tbody>\n",
       "    <tr>\n",
       "      <th>0</th>\n",
       "      <td>tt0000001</td>\n",
       "      <td>1</td>\n",
       "      <td>Carmencita - spanyol tánc</td>\n",
       "      <td>HU</td>\n",
       "      <td>\\N</td>\n",
       "      <td>imdbDisplay</td>\n",
       "      <td>\\N</td>\n",
       "      <td>0</td>\n",
       "    </tr>\n",
       "    <tr>\n",
       "      <th>1</th>\n",
       "      <td>tt0000001</td>\n",
       "      <td>2</td>\n",
       "      <td>Καρμενσίτα</td>\n",
       "      <td>GR</td>\n",
       "      <td>\\N</td>\n",
       "      <td>\\N</td>\n",
       "      <td>\\N</td>\n",
       "      <td>0</td>\n",
       "    </tr>\n",
       "    <tr>\n",
       "      <th>2</th>\n",
       "      <td>tt0000001</td>\n",
       "      <td>3</td>\n",
       "      <td>Карменсита</td>\n",
       "      <td>RU</td>\n",
       "      <td>\\N</td>\n",
       "      <td>\\N</td>\n",
       "      <td>\\N</td>\n",
       "      <td>0</td>\n",
       "    </tr>\n",
       "  </tbody>\n",
       "</table>\n",
       "</div>"
      ],
      "text/plain": [
       "     titleId  ordering                      title region language  \\\n",
       "0  tt0000001         1  Carmencita - spanyol tánc     HU       \\N   \n",
       "1  tt0000001         2                 Καρμενσίτα     GR       \\N   \n",
       "2  tt0000001         3                 Карменсита     RU       \\N   \n",
       "\n",
       "         types attributes isOriginalTitle  \n",
       "0  imdbDisplay         \\N               0  \n",
       "1           \\N         \\N               0  \n",
       "2           \\N         \\N               0  "
      ]
     },
     "execution_count": 2,
     "metadata": {},
     "output_type": "execute_result"
    }
   ],
   "source": [
    "title_akas.head(3)"
   ]
  },
  {
   "cell_type": "code",
   "execution_count": 3,
   "metadata": {
    "collapsed": false
   },
   "outputs": [
    {
     "data": {
      "text/plain": [
       "titleId             0\n",
       "ordering            0\n",
       "title               0\n",
       "region             55\n",
       "language            0\n",
       "types               0\n",
       "attributes          0\n",
       "isOriginalTitle     0\n",
       "dtype: int64"
      ]
     },
     "execution_count": 3,
     "metadata": {},
     "output_type": "execute_result"
    }
   ],
   "source": [
    "# checking for NA:\n",
    "title_akas.isna().sum()"
   ]
  },
  {
   "cell_type": "markdown",
   "metadata": {},
   "source": [
    "<b>Only region variable has NA values.</b>"
   ]
  },
  {
   "cell_type": "code",
   "execution_count": 4,
   "metadata": {
    "collapsed": false
   },
   "outputs": [],
   "source": [
    "# Adding total number of available versions for a movie -> this will be a new feature\n",
    "title_version_counts = title_akas.copy()\n",
    "title_version_counts['version_counts'] = title_akas.groupby(['titleId'])['ordering'].transform('count')\n",
    "title_version_counts = title_version_counts[['titleId', 'version_counts']]\n",
    "title_version_counts = title_version_counts.drop_duplicates(keep='first').reset_index(drop=True)"
   ]
  },
  {
   "cell_type": "markdown",
   "metadata": {},
   "source": [
    "## 2. title_basics"
   ]
  },
  {
   "cell_type": "code",
   "execution_count": 5,
   "metadata": {
    "collapsed": false
   },
   "outputs": [
    {
     "data": {
      "text/html": [
       "<div>\n",
       "<style scoped>\n",
       "    .dataframe tbody tr th:only-of-type {\n",
       "        vertical-align: middle;\n",
       "    }\n",
       "\n",
       "    .dataframe tbody tr th {\n",
       "        vertical-align: top;\n",
       "    }\n",
       "\n",
       "    .dataframe thead th {\n",
       "        text-align: right;\n",
       "    }\n",
       "</style>\n",
       "<table border=\"1\" class=\"dataframe\">\n",
       "  <thead>\n",
       "    <tr style=\"text-align: right;\">\n",
       "      <th></th>\n",
       "      <th>tconst</th>\n",
       "      <th>titleType</th>\n",
       "      <th>primaryTitle</th>\n",
       "      <th>originalTitle</th>\n",
       "      <th>isAdult</th>\n",
       "      <th>startYear</th>\n",
       "      <th>endYear</th>\n",
       "      <th>runtimeMinutes</th>\n",
       "      <th>genres</th>\n",
       "    </tr>\n",
       "  </thead>\n",
       "  <tbody>\n",
       "    <tr>\n",
       "      <th>0</th>\n",
       "      <td>tt0000001</td>\n",
       "      <td>short</td>\n",
       "      <td>Carmencita</td>\n",
       "      <td>Carmencita</td>\n",
       "      <td>0</td>\n",
       "      <td>1894</td>\n",
       "      <td>\\N</td>\n",
       "      <td>1</td>\n",
       "      <td>Documentary,Short</td>\n",
       "    </tr>\n",
       "    <tr>\n",
       "      <th>1</th>\n",
       "      <td>tt0000002</td>\n",
       "      <td>short</td>\n",
       "      <td>Le clown et ses chiens</td>\n",
       "      <td>Le clown et ses chiens</td>\n",
       "      <td>0</td>\n",
       "      <td>1892</td>\n",
       "      <td>\\N</td>\n",
       "      <td>5</td>\n",
       "      <td>Animation,Short</td>\n",
       "    </tr>\n",
       "    <tr>\n",
       "      <th>2</th>\n",
       "      <td>tt0000003</td>\n",
       "      <td>short</td>\n",
       "      <td>Pauvre Pierrot</td>\n",
       "      <td>Pauvre Pierrot</td>\n",
       "      <td>0</td>\n",
       "      <td>1892</td>\n",
       "      <td>\\N</td>\n",
       "      <td>4</td>\n",
       "      <td>Animation,Comedy,Romance</td>\n",
       "    </tr>\n",
       "  </tbody>\n",
       "</table>\n",
       "</div>"
      ],
      "text/plain": [
       "      tconst titleType            primaryTitle           originalTitle  \\\n",
       "0  tt0000001     short              Carmencita              Carmencita   \n",
       "1  tt0000002     short  Le clown et ses chiens  Le clown et ses chiens   \n",
       "2  tt0000003     short          Pauvre Pierrot          Pauvre Pierrot   \n",
       "\n",
       "   isAdult startYear endYear runtimeMinutes                    genres  \n",
       "0        0      1894      \\N              1         Documentary,Short  \n",
       "1        0      1892      \\N              5           Animation,Short  \n",
       "2        0      1892      \\N              4  Animation,Comedy,Romance  "
      ]
     },
     "execution_count": 5,
     "metadata": {},
     "output_type": "execute_result"
    }
   ],
   "source": [
    "title_basics.head(3)"
   ]
  },
  {
   "cell_type": "code",
   "execution_count": 6,
   "metadata": {
    "collapsed": false
   },
   "outputs": [
    {
     "data": {
      "text/plain": [
       "tconst            0\n",
       "titleType         0\n",
       "primaryTitle      7\n",
       "originalTitle     7\n",
       "isAdult           0\n",
       "startYear         0\n",
       "endYear           0\n",
       "runtimeMinutes    0\n",
       "genres            8\n",
       "dtype: int64"
      ]
     },
     "execution_count": 6,
     "metadata": {},
     "output_type": "execute_result"
    }
   ],
   "source": [
    "# checking for NA:\n",
    "title_basics.isna().sum()"
   ]
  },
  {
   "cell_type": "markdown",
   "metadata": {},
   "source": [
    "<b>PrimaryTitle, OriginalTitle and genres variables have NA.<br> \n",
    "Among these three, only 'genres' variable play an integral part in determining the rating of the movie</b>"
   ]
  },
  {
   "cell_type": "code",
   "execution_count": 7,
   "metadata": {
    "collapsed": false
   },
   "outputs": [
    {
     "data": {
      "text/plain": [
       "0.00013688614477797324"
      ]
     },
     "execution_count": 7,
     "metadata": {},
     "output_type": "execute_result"
    }
   ],
   "source": [
    "8/len(title_basics)*100"
   ]
  },
  {
   "cell_type": "markdown",
   "metadata": {},
   "source": [
    "<b>Now, since the missing value data points correspond to less than 0.001% of the dataset, we can safely drop these rows"
   ]
  },
  {
   "cell_type": "code",
   "execution_count": 8,
   "metadata": {
    "collapsed": false
   },
   "outputs": [],
   "source": [
    "title_basics = title_basics.dropna().reset_index(drop=True)"
   ]
  },
  {
   "cell_type": "code",
   "execution_count": 9,
   "metadata": {
    "collapsed": true
   },
   "outputs": [],
   "source": [
    "# Creating a mapping dataframe for title and the type -> useful to extract movie titles only\n",
    "title_and_type_mapping = title_basics.copy()\n",
    "title_and_type_mapping = title_and_type_mapping[['tconst', 'titleType']]\n",
    "title_and_type_mapping = title_and_type_mapping.drop_duplicates(keep='first').reset_index(drop=True)"
   ]
  },
  {
   "cell_type": "code",
   "execution_count": 10,
   "metadata": {
    "collapsed": false
   },
   "outputs": [
    {
     "data": {
      "text/html": [
       "<div>\n",
       "<style scoped>\n",
       "    .dataframe tbody tr th:only-of-type {\n",
       "        vertical-align: middle;\n",
       "    }\n",
       "\n",
       "    .dataframe tbody tr th {\n",
       "        vertical-align: top;\n",
       "    }\n",
       "\n",
       "    .dataframe thead th {\n",
       "        text-align: right;\n",
       "    }\n",
       "</style>\n",
       "<table border=\"1\" class=\"dataframe\">\n",
       "  <thead>\n",
       "    <tr style=\"text-align: right;\">\n",
       "      <th></th>\n",
       "      <th>tconst</th>\n",
       "      <th>titleType</th>\n",
       "    </tr>\n",
       "  </thead>\n",
       "  <tbody>\n",
       "    <tr>\n",
       "      <th>0</th>\n",
       "      <td>tt0000001</td>\n",
       "      <td>short</td>\n",
       "    </tr>\n",
       "    <tr>\n",
       "      <th>1</th>\n",
       "      <td>tt0000002</td>\n",
       "      <td>short</td>\n",
       "    </tr>\n",
       "    <tr>\n",
       "      <th>2</th>\n",
       "      <td>tt0000003</td>\n",
       "      <td>short</td>\n",
       "    </tr>\n",
       "  </tbody>\n",
       "</table>\n",
       "</div>"
      ],
      "text/plain": [
       "      tconst titleType\n",
       "0  tt0000001     short\n",
       "1  tt0000002     short\n",
       "2  tt0000003     short"
      ]
     },
     "execution_count": 10,
     "metadata": {},
     "output_type": "execute_result"
    }
   ],
   "source": [
    "title_and_type_mapping.head(3)"
   ]
  },
  {
   "cell_type": "code",
   "execution_count": 11,
   "metadata": {
    "collapsed": false
   },
   "outputs": [],
   "source": [
    "# Adding the version counts for the movie (which was calculated in section 1)\n",
    "data_titles_complete = pd.merge(title_basics, title_version_counts, how='left', left_on='tconst', right_on='titleId', left_index=True)\n",
    "data_titles_complete = data_titles_complete.drop(axis=1, columns=['titleId'])"
   ]
  },
  {
   "cell_type": "code",
   "execution_count": 12,
   "metadata": {
    "collapsed": false
   },
   "outputs": [
    {
     "data": {
      "text/html": [
       "<div>\n",
       "<style scoped>\n",
       "    .dataframe tbody tr th:only-of-type {\n",
       "        vertical-align: middle;\n",
       "    }\n",
       "\n",
       "    .dataframe tbody tr th {\n",
       "        vertical-align: top;\n",
       "    }\n",
       "\n",
       "    .dataframe thead th {\n",
       "        text-align: right;\n",
       "    }\n",
       "</style>\n",
       "<table border=\"1\" class=\"dataframe\">\n",
       "  <thead>\n",
       "    <tr style=\"text-align: right;\">\n",
       "      <th></th>\n",
       "      <th>tconst</th>\n",
       "      <th>titleType</th>\n",
       "      <th>primaryTitle</th>\n",
       "      <th>originalTitle</th>\n",
       "      <th>isAdult</th>\n",
       "      <th>startYear</th>\n",
       "      <th>endYear</th>\n",
       "      <th>runtimeMinutes</th>\n",
       "      <th>genres</th>\n",
       "      <th>version_counts</th>\n",
       "    </tr>\n",
       "  </thead>\n",
       "  <tbody>\n",
       "    <tr>\n",
       "      <th>0</th>\n",
       "      <td>tt0000001</td>\n",
       "      <td>short</td>\n",
       "      <td>Carmencita</td>\n",
       "      <td>Carmencita</td>\n",
       "      <td>0</td>\n",
       "      <td>1894</td>\n",
       "      <td>\\N</td>\n",
       "      <td>1</td>\n",
       "      <td>Documentary,Short</td>\n",
       "      <td>5.0</td>\n",
       "    </tr>\n",
       "    <tr>\n",
       "      <th>1</th>\n",
       "      <td>tt0000002</td>\n",
       "      <td>short</td>\n",
       "      <td>Le clown et ses chiens</td>\n",
       "      <td>Le clown et ses chiens</td>\n",
       "      <td>0</td>\n",
       "      <td>1892</td>\n",
       "      <td>\\N</td>\n",
       "      <td>5</td>\n",
       "      <td>Animation,Short</td>\n",
       "      <td>6.0</td>\n",
       "    </tr>\n",
       "    <tr>\n",
       "      <th>2</th>\n",
       "      <td>tt0000003</td>\n",
       "      <td>short</td>\n",
       "      <td>Pauvre Pierrot</td>\n",
       "      <td>Pauvre Pierrot</td>\n",
       "      <td>0</td>\n",
       "      <td>1892</td>\n",
       "      <td>\\N</td>\n",
       "      <td>4</td>\n",
       "      <td>Animation,Comedy,Romance</td>\n",
       "      <td>6.0</td>\n",
       "    </tr>\n",
       "  </tbody>\n",
       "</table>\n",
       "</div>"
      ],
      "text/plain": [
       "      tconst titleType            primaryTitle           originalTitle  \\\n",
       "0  tt0000001     short              Carmencita              Carmencita   \n",
       "1  tt0000002     short  Le clown et ses chiens  Le clown et ses chiens   \n",
       "2  tt0000003     short          Pauvre Pierrot          Pauvre Pierrot   \n",
       "\n",
       "   isAdult startYear endYear runtimeMinutes                    genres  \\\n",
       "0        0      1894      \\N              1         Documentary,Short   \n",
       "1        0      1892      \\N              5           Animation,Short   \n",
       "2        0      1892      \\N              4  Animation,Comedy,Romance   \n",
       "\n",
       "   version_counts  \n",
       "0             5.0  \n",
       "1             6.0  \n",
       "2             6.0  "
      ]
     },
     "execution_count": 12,
     "metadata": {},
     "output_type": "execute_result"
    }
   ],
   "source": [
    "data_titles_complete.head(3)"
   ]
  },
  {
   "cell_type": "code",
   "execution_count": 14,
   "metadata": {
    "collapsed": true
   },
   "outputs": [],
   "source": [
    "# Filtering titles only for movies \n",
    "data_titles_only_movies = data_titles_complete[data_titles_complete['titleType'] == 'movie']\n",
    "data_titles_only_movies = data_titles_only_movies.drop(axis=1, columns=['titleType'])\n",
    "data_titles_only_movies = data_titles_only_movies.reset_index(drop=True)"
   ]
  },
  {
   "cell_type": "code",
   "execution_count": 15,
   "metadata": {
    "collapsed": false
   },
   "outputs": [
    {
     "data": {
      "text/html": [
       "<div>\n",
       "<style scoped>\n",
       "    .dataframe tbody tr th:only-of-type {\n",
       "        vertical-align: middle;\n",
       "    }\n",
       "\n",
       "    .dataframe tbody tr th {\n",
       "        vertical-align: top;\n",
       "    }\n",
       "\n",
       "    .dataframe thead th {\n",
       "        text-align: right;\n",
       "    }\n",
       "</style>\n",
       "<table border=\"1\" class=\"dataframe\">\n",
       "  <thead>\n",
       "    <tr style=\"text-align: right;\">\n",
       "      <th></th>\n",
       "      <th>tconst</th>\n",
       "      <th>primaryTitle</th>\n",
       "      <th>originalTitle</th>\n",
       "      <th>isAdult</th>\n",
       "      <th>startYear</th>\n",
       "      <th>endYear</th>\n",
       "      <th>runtimeMinutes</th>\n",
       "      <th>genres</th>\n",
       "      <th>version_counts</th>\n",
       "    </tr>\n",
       "  </thead>\n",
       "  <tbody>\n",
       "    <tr>\n",
       "      <th>0</th>\n",
       "      <td>tt0000009</td>\n",
       "      <td>Miss Jerry</td>\n",
       "      <td>Miss Jerry</td>\n",
       "      <td>0</td>\n",
       "      <td>1894</td>\n",
       "      <td>\\N</td>\n",
       "      <td>45</td>\n",
       "      <td>Romance</td>\n",
       "      <td>3.0</td>\n",
       "    </tr>\n",
       "    <tr>\n",
       "      <th>1</th>\n",
       "      <td>tt0000147</td>\n",
       "      <td>The Corbett-Fitzsimmons Fight</td>\n",
       "      <td>The Corbett-Fitzsimmons Fight</td>\n",
       "      <td>0</td>\n",
       "      <td>1897</td>\n",
       "      <td>\\N</td>\n",
       "      <td>20</td>\n",
       "      <td>Documentary,News,Sport</td>\n",
       "      <td>3.0</td>\n",
       "    </tr>\n",
       "    <tr>\n",
       "      <th>2</th>\n",
       "      <td>tt0000335</td>\n",
       "      <td>Soldiers of the Cross</td>\n",
       "      <td>Soldiers of the Cross</td>\n",
       "      <td>0</td>\n",
       "      <td>1900</td>\n",
       "      <td>\\N</td>\n",
       "      <td>\\N</td>\n",
       "      <td>Biography,Drama</td>\n",
       "      <td>3.0</td>\n",
       "    </tr>\n",
       "  </tbody>\n",
       "</table>\n",
       "</div>"
      ],
      "text/plain": [
       "      tconst                   primaryTitle                  originalTitle  \\\n",
       "0  tt0000009                     Miss Jerry                     Miss Jerry   \n",
       "1  tt0000147  The Corbett-Fitzsimmons Fight  The Corbett-Fitzsimmons Fight   \n",
       "2  tt0000335          Soldiers of the Cross          Soldiers of the Cross   \n",
       "\n",
       "   isAdult startYear endYear runtimeMinutes                  genres  \\\n",
       "0        0      1894      \\N             45                 Romance   \n",
       "1        0      1897      \\N             20  Documentary,News,Sport   \n",
       "2        0      1900      \\N             \\N         Biography,Drama   \n",
       "\n",
       "   version_counts  \n",
       "0             3.0  \n",
       "1             3.0  \n",
       "2             3.0  "
      ]
     },
     "execution_count": 15,
     "metadata": {},
     "output_type": "execute_result"
    }
   ],
   "source": [
    "data_titles_only_movies.head(3)"
   ]
  },
  {
   "cell_type": "code",
   "execution_count": 284,
   "metadata": {
    "collapsed": false
   },
   "outputs": [
    {
     "data": {
      "image/png": "[encoded data removed]",
      "text/plain": [
       "<matplotlib.figure.Figure at 0x2c8a9ff1b38>"
      ]
     },
     "metadata": {},
     "output_type": "display_data"
    }
   ],
   "source": [
    "# visualzing the version counts in histogram\n",
    "x=np.array(data_titles_only_movies['version_counts'])\n",
    "x = x[~np.isnan(x)]\n",
    "plt.hist(x, bins=100)\n",
    "plt.show()"
   ]
  },
  {
   "cell_type": "markdown",
   "metadata": {},
   "source": [
    "You can see that some movies have more than 20 versions made on them"
   ]
  },
  {
   "cell_type": "markdown",
   "metadata": {},
   "source": [
    "## 3. Preparing training data to calculate baseline model:\n"
   ]
  },
  {
   "cell_type": "markdown",
   "metadata": {},
   "source": [
    "<b> Baseline data only uses few features which are present in the <i>'data_titles_only_movies'</i> table and the <i>'ratings'</i> table"
   ]
  },
  {
   "cell_type": "markdown",
   "metadata": {},
   "source": [
    "##### 3(a) Utils"
   ]
  },
  {
   "cell_type": "code",
   "execution_count": null,
   "metadata": {
    "collapsed": true
   },
   "outputs": [],
   "source": [
    "def removeRowsWithEmptyValues(df):\n",
    "    df = df[df.runtimeMinutes != '\\\\N']\n",
    "    df = df[df.startYear != '\\\\N']\n",
    "    df = df.reset_index(drop=True)\n",
    "    return df\n",
    "\n",
    "def prepareData(df, y_col='averageRating'):\n",
    "    cols = df.columns.tolist()\n",
    "    cols.remove(y_col)\n",
    "    X = df[cols]\n",
    "    y = df[y_col]\n",
    "    return X,y\n",
    "\n",
    "def CrossValidationOnASelectedModel(model, X_train, y_train, alpha_range, split_num=5, score_metric='neg_mean_squared_error'):\n",
    "    score_list = []\n",
    "    for alpha in alpha_range:\n",
    "        func = eval(model)(alpha=alpha)\n",
    "        score = cross_val_score(func, X_train, y_train, cv=split_num, scoring=score_metric)\n",
    "        score = np.average(score)\n",
    "        score_list.append(score)\n",
    "    return score_list\n",
    "\n",
    "def getBestHyperparameterVal(score_list, hyperparameter_range):\n",
    "    idx = np.argmax(score_list)\n",
    "    hyperparameter_best = hyperparameter_range[idx]\n",
    "    return hyperparameter_best\n",
    "\n",
    "def CrossValidationOnASelectedModelII(model, X_train, y_train, n_estimators, split_num=5, score_metric='neg_mean_squared_error'):\n",
    "    score_list = []\n",
    "    for estimator in n_estimators:\n",
    "        func = eval(model)(n_estimators=estimator)\n",
    "        score = cross_val_score(func, X_train, y_train, cv=split_num, scoring=score_metric)\n",
    "        score = np.average(score)\n",
    "        score_list.append(score)\n",
    "    return score_list\n",
    "\n",
    "def trainAndTestAModelII(model, n_estimators, X_train, y_train, X_test, y_test):\n",
    "    func = eval(model)(n_estimators=n_estimators)\n",
    "    func.fit(X_train, y_train)\n",
    "    y_pred = func.predict(X_test)\n",
    "    print(\"The mean squared error for \"+model+\" is :\", mean_squared_error(y_test, y_pred))\n",
    "    print(\"The r2 score for \"+model+\" is :\", r2_score(y_test, y_pred))\n",
    "    return func\n",
    "\n",
    "def plotNegativeMSELoss(alpha_range, mse_list, model_name):\n",
    "    plt.plot(alpha_range, mse_list)\n",
    "    plt.title(model_name+\" Negative MSE Loss\")\n",
    "    plt.xlabel('Alpha')\n",
    "    plt.ylabel('MSE')\n",
    "    plt.show()\n",
    "\n",
    "def trainAndTestAModel(model, alpha_val, X_train, y_train, X_test, y_test, alpha_req=False):\n",
    "    if alpha_req==True:\n",
    "        func = eval(model)(alpha=alpha_val)\n",
    "    else:\n",
    "        func = eval(model)()\n",
    "    func.fit(X_train, y_train)\n",
    "    y_pred = func.predict(X_test)\n",
    "    print(\"The mean squared error for \"+model+\" is :\", mean_squared_error(y_test, y_pred))\n",
    "    print(\"The r2 score for \"+model+\" is :\", r2_score(y_test, y_pred))\n",
    "    return func\n",
    "\n",
    "def plotVariablesCoefficients(coefficients, col_names):\n",
    "    indices = np.arange(0, len(col_names), 1)\n",
    "    plt.bar(indices, coefficients)\n",
    "    plt.xticks(indices, col_names, rotation=45)\n",
    "    plt.show()"
   ]
  },
  {
   "cell_type": "markdown",
   "metadata": {},
   "source": [
    "##### 3(b) Preparing the dataset"
   ]
  },
  {
   "cell_type": "code",
   "execution_count": 16,
   "metadata": {
    "collapsed": false
   },
   "outputs": [
    {
     "data": {
      "text/html": [
       "<div>\n",
       "<style scoped>\n",
       "    .dataframe tbody tr th:only-of-type {\n",
       "        vertical-align: middle;\n",
       "    }\n",
       "\n",
       "    .dataframe tbody tr th {\n",
       "        vertical-align: top;\n",
       "    }\n",
       "\n",
       "    .dataframe thead th {\n",
       "        text-align: right;\n",
       "    }\n",
       "</style>\n",
       "<table border=\"1\" class=\"dataframe\">\n",
       "  <thead>\n",
       "    <tr style=\"text-align: right;\">\n",
       "      <th></th>\n",
       "      <th>tconst</th>\n",
       "      <th>averageRating</th>\n",
       "      <th>numVotes</th>\n",
       "    </tr>\n",
       "  </thead>\n",
       "  <tbody>\n",
       "    <tr>\n",
       "      <th>0</th>\n",
       "      <td>tt0000001</td>\n",
       "      <td>5.8</td>\n",
       "      <td>1497</td>\n",
       "    </tr>\n",
       "    <tr>\n",
       "      <th>1</th>\n",
       "      <td>tt0000002</td>\n",
       "      <td>6.3</td>\n",
       "      <td>181</td>\n",
       "    </tr>\n",
       "    <tr>\n",
       "      <th>2</th>\n",
       "      <td>tt0000003</td>\n",
       "      <td>6.6</td>\n",
       "      <td>1136</td>\n",
       "    </tr>\n",
       "  </tbody>\n",
       "</table>\n",
       "</div>"
      ],
      "text/plain": [
       "      tconst  averageRating  numVotes\n",
       "0  tt0000001            5.8      1497\n",
       "1  tt0000002            6.3       181\n",
       "2  tt0000003            6.6      1136"
      ]
     },
     "execution_count": 16,
     "metadata": {},
     "output_type": "execute_result"
    }
   ],
   "source": [
    "# ratings data:\n",
    "ratings.head(3)"
   ]
  },
  {
   "cell_type": "code",
   "execution_count": 17,
   "metadata": {
    "collapsed": false
   },
   "outputs": [
    {
     "data": {
      "text/html": [
       "<div>\n",
       "<style scoped>\n",
       "    .dataframe tbody tr th:only-of-type {\n",
       "        vertical-align: middle;\n",
       "    }\n",
       "\n",
       "    .dataframe tbody tr th {\n",
       "        vertical-align: top;\n",
       "    }\n",
       "\n",
       "    .dataframe thead th {\n",
       "        text-align: right;\n",
       "    }\n",
       "</style>\n",
       "<table border=\"1\" class=\"dataframe\">\n",
       "  <thead>\n",
       "    <tr style=\"text-align: right;\">\n",
       "      <th></th>\n",
       "      <th>tconst</th>\n",
       "      <th>averageRating</th>\n",
       "      <th>numVotes</th>\n",
       "      <th>titleType</th>\n",
       "    </tr>\n",
       "  </thead>\n",
       "  <tbody>\n",
       "    <tr>\n",
       "      <th>0</th>\n",
       "      <td>tt0000009</td>\n",
       "      <td>5.5</td>\n",
       "      <td>79</td>\n",
       "      <td>movie</td>\n",
       "    </tr>\n",
       "    <tr>\n",
       "      <th>1</th>\n",
       "      <td>tt0000147</td>\n",
       "      <td>5.2</td>\n",
       "      <td>291</td>\n",
       "      <td>movie</td>\n",
       "    </tr>\n",
       "    <tr>\n",
       "      <th>2</th>\n",
       "      <td>tt0000335</td>\n",
       "      <td>6.3</td>\n",
       "      <td>39</td>\n",
       "      <td>movie</td>\n",
       "    </tr>\n",
       "  </tbody>\n",
       "</table>\n",
       "</div>"
      ],
      "text/plain": [
       "      tconst  averageRating  numVotes titleType\n",
       "0  tt0000009            5.5        79     movie\n",
       "1  tt0000147            5.2       291     movie\n",
       "2  tt0000335            6.3        39     movie"
      ]
     },
     "execution_count": 17,
     "metadata": {},
     "output_type": "execute_result"
    }
   ],
   "source": [
    "# gather ratings data only for movies:\n",
    "ratings_with_titles = pd.merge(ratings, title_and_type_mapping, on='tconst', how='left')\n",
    "ratings_movie = ratings_with_titles[ratings_with_titles['titleType'] == 'movie'].reset_index(drop=True)\n",
    "ratings_movie.head(3)"
   ]
  },
  {
   "cell_type": "code",
   "execution_count": 18,
   "metadata": {
    "collapsed": false
   },
   "outputs": [
    {
     "data": {
      "text/html": [
       "<div>\n",
       "<style scoped>\n",
       "    .dataframe tbody tr th:only-of-type {\n",
       "        vertical-align: middle;\n",
       "    }\n",
       "\n",
       "    .dataframe tbody tr th {\n",
       "        vertical-align: top;\n",
       "    }\n",
       "\n",
       "    .dataframe thead th {\n",
       "        text-align: right;\n",
       "    }\n",
       "</style>\n",
       "<table border=\"1\" class=\"dataframe\">\n",
       "  <thead>\n",
       "    <tr style=\"text-align: right;\">\n",
       "      <th></th>\n",
       "      <th>tconst</th>\n",
       "      <th>averageRating</th>\n",
       "      <th>numVotes</th>\n",
       "      <th>titleType</th>\n",
       "      <th>primaryTitle</th>\n",
       "      <th>originalTitle</th>\n",
       "      <th>isAdult</th>\n",
       "      <th>startYear</th>\n",
       "      <th>endYear</th>\n",
       "      <th>runtimeMinutes</th>\n",
       "      <th>genres</th>\n",
       "      <th>version_counts</th>\n",
       "    </tr>\n",
       "  </thead>\n",
       "  <tbody>\n",
       "    <tr>\n",
       "      <th>0</th>\n",
       "      <td>tt0000009</td>\n",
       "      <td>5.5</td>\n",
       "      <td>79</td>\n",
       "      <td>movie</td>\n",
       "      <td>Miss Jerry</td>\n",
       "      <td>Miss Jerry</td>\n",
       "      <td>0</td>\n",
       "      <td>1894</td>\n",
       "      <td>\\N</td>\n",
       "      <td>45</td>\n",
       "      <td>Romance</td>\n",
       "      <td>3.0</td>\n",
       "    </tr>\n",
       "    <tr>\n",
       "      <th>1</th>\n",
       "      <td>tt0000147</td>\n",
       "      <td>5.2</td>\n",
       "      <td>291</td>\n",
       "      <td>movie</td>\n",
       "      <td>The Corbett-Fitzsimmons Fight</td>\n",
       "      <td>The Corbett-Fitzsimmons Fight</td>\n",
       "      <td>0</td>\n",
       "      <td>1897</td>\n",
       "      <td>\\N</td>\n",
       "      <td>20</td>\n",
       "      <td>Documentary,News,Sport</td>\n",
       "      <td>3.0</td>\n",
       "    </tr>\n",
       "    <tr>\n",
       "      <th>2</th>\n",
       "      <td>tt0000335</td>\n",
       "      <td>6.3</td>\n",
       "      <td>39</td>\n",
       "      <td>movie</td>\n",
       "      <td>Soldiers of the Cross</td>\n",
       "      <td>Soldiers of the Cross</td>\n",
       "      <td>0</td>\n",
       "      <td>1900</td>\n",
       "      <td>\\N</td>\n",
       "      <td>\\N</td>\n",
       "      <td>Biography,Drama</td>\n",
       "      <td>3.0</td>\n",
       "    </tr>\n",
       "  </tbody>\n",
       "</table>\n",
       "</div>"
      ],
      "text/plain": [
       "      tconst  averageRating  numVotes titleType  \\\n",
       "0  tt0000009            5.5        79     movie   \n",
       "1  tt0000147            5.2       291     movie   \n",
       "2  tt0000335            6.3        39     movie   \n",
       "\n",
       "                    primaryTitle                  originalTitle  isAdult  \\\n",
       "0                     Miss Jerry                     Miss Jerry        0   \n",
       "1  The Corbett-Fitzsimmons Fight  The Corbett-Fitzsimmons Fight        0   \n",
       "2          Soldiers of the Cross          Soldiers of the Cross        0   \n",
       "\n",
       "  startYear endYear runtimeMinutes                  genres  version_counts  \n",
       "0      1894      \\N             45                 Romance             3.0  \n",
       "1      1897      \\N             20  Documentary,News,Sport             3.0  \n",
       "2      1900      \\N             \\N         Biography,Drama             3.0  "
      ]
     },
     "execution_count": 18,
     "metadata": {},
     "output_type": "execute_result"
    }
   ],
   "source": [
    "baseline_data = pd.merge(ratings_movie, data_titles_only_movies, on='tconst', how='left')\n",
    "baseline_data.head(3)"
   ]
  },
  {
   "cell_type": "code",
   "execution_count": 19,
   "metadata": {
    "collapsed": false
   },
   "outputs": [
    {
     "data": {
      "text/html": [
       "<div>\n",
       "<style scoped>\n",
       "    .dataframe tbody tr th:only-of-type {\n",
       "        vertical-align: middle;\n",
       "    }\n",
       "\n",
       "    .dataframe tbody tr th {\n",
       "        vertical-align: top;\n",
       "    }\n",
       "\n",
       "    .dataframe thead th {\n",
       "        text-align: right;\n",
       "    }\n",
       "</style>\n",
       "<table border=\"1\" class=\"dataframe\">\n",
       "  <thead>\n",
       "    <tr style=\"text-align: right;\">\n",
       "      <th></th>\n",
       "      <th>tconst</th>\n",
       "      <th>averageRating</th>\n",
       "      <th>numVotes</th>\n",
       "      <th>isAdult</th>\n",
       "      <th>startYear</th>\n",
       "      <th>runtimeMinutes</th>\n",
       "      <th>version_counts</th>\n",
       "    </tr>\n",
       "  </thead>\n",
       "  <tbody>\n",
       "    <tr>\n",
       "      <th>0</th>\n",
       "      <td>tt0000009</td>\n",
       "      <td>5.5</td>\n",
       "      <td>79</td>\n",
       "      <td>0</td>\n",
       "      <td>1894</td>\n",
       "      <td>45</td>\n",
       "      <td>3.0</td>\n",
       "    </tr>\n",
       "    <tr>\n",
       "      <th>1</th>\n",
       "      <td>tt0000147</td>\n",
       "      <td>5.2</td>\n",
       "      <td>291</td>\n",
       "      <td>0</td>\n",
       "      <td>1897</td>\n",
       "      <td>20</td>\n",
       "      <td>3.0</td>\n",
       "    </tr>\n",
       "    <tr>\n",
       "      <th>2</th>\n",
       "      <td>tt0000335</td>\n",
       "      <td>6.3</td>\n",
       "      <td>39</td>\n",
       "      <td>0</td>\n",
       "      <td>1900</td>\n",
       "      <td>\\N</td>\n",
       "      <td>3.0</td>\n",
       "    </tr>\n",
       "  </tbody>\n",
       "</table>\n",
       "</div>"
      ],
      "text/plain": [
       "      tconst  averageRating  numVotes  isAdult startYear runtimeMinutes  \\\n",
       "0  tt0000009            5.5        79        0      1894             45   \n",
       "1  tt0000147            5.2       291        0      1897             20   \n",
       "2  tt0000335            6.3        39        0      1900             \\N   \n",
       "\n",
       "   version_counts  \n",
       "0             3.0  \n",
       "1             3.0  \n",
       "2             3.0  "
      ]
     },
     "execution_count": 19,
     "metadata": {},
     "output_type": "execute_result"
    }
   ],
   "source": [
    "# remove unnecessary columns:\n",
    "baseline_data = baseline_data.drop(columns=['titleType','primaryTitle', 'originalTitle', 'endYear', 'genres'])\n",
    "baseline_data.head(3)"
   ]
  },
  {
   "cell_type": "code",
   "execution_count": 20,
   "metadata": {
    "collapsed": false
   },
   "outputs": [
    {
     "data": {
      "text/plain": [
       "tconst                0\n",
       "averageRating         0\n",
       "numVotes              0\n",
       "isAdult               0\n",
       "startYear             0\n",
       "runtimeMinutes        0\n",
       "version_counts    13507\n",
       "dtype: int64"
      ]
     },
     "execution_count": 20,
     "metadata": {},
     "output_type": "execute_result"
    }
   ],
   "source": [
    "# Check for NA\n",
    "baseline_data.isna().sum()"
   ]
  },
  {
   "cell_type": "markdown",
   "metadata": {},
   "source": [
    "<b> The NA values are because there are missing titles in title_akas.tsv file. This means that they have only one version. Hence the NA values can be replaced by 1"
   ]
  },
  {
   "cell_type": "code",
   "execution_count": 21,
   "metadata": {
    "collapsed": true
   },
   "outputs": [],
   "source": [
    "baseline_data = baseline_data.fillna(value={'version_counts':1})"
   ]
  },
  {
   "cell_type": "code",
   "execution_count": 22,
   "metadata": {
    "collapsed": true
   },
   "outputs": [],
   "source": [
    "# removing the tconst variable as it gives no meaning during modeling phase\n",
    "baseline_data = baseline_data.drop(axis=1, columns=['tconst'])"
   ]
  },
  {
   "cell_type": "code",
   "execution_count": 23,
   "metadata": {
    "collapsed": false
   },
   "outputs": [
    {
     "data": {
      "text/plain": [
       "averageRating         0\n",
       "numVotes              0\n",
       "isAdult               0\n",
       "startYear            14\n",
       "runtimeMinutes    28585\n",
       "version_counts        0\n",
       "dtype: int64"
      ]
     },
     "execution_count": 23,
     "metadata": {},
     "output_type": "execute_result"
    }
   ],
   "source": [
    "# checking for rows with values '\\\\N':\n",
    "\n",
    "(baseline_data == '\\\\N').sum()"
   ]
  },
  {
   "cell_type": "code",
   "execution_count": 25,
   "metadata": {
    "collapsed": true
   },
   "outputs": [],
   "source": [
    "baseline_data = removeRowsWithEmptyValues(baseline_data)"
   ]
  },
  {
   "cell_type": "code",
   "execution_count": null,
   "metadata": {
    "collapsed": true
   },
   "outputs": [],
   "source": [
    "X, y = prepareData(baseline_data, 'averageRating')\n",
    "# Standardizing the datasets:\n",
    "scaler = StandardScaler()\n",
    "scaler.fit(X)\n",
    "X_std = scaler.transform(X)"
   ]
  },
  {
   "cell_type": "markdown",
   "metadata": {},
   "source": [
    "##### 3(c) Training simple OLS"
   ]
  },
  {
   "cell_type": "code",
   "execution_count": 27,
   "metadata": {
    "collapsed": false
   },
   "outputs": [
    {
     "name": "stdout",
     "output_type": "stream",
     "text": [
      "The mean squared error for LinearRegression is : 1.71435168544\n",
      "The r2 score for LinearRegression is : 0.00933644777643\n"
     ]
    },
    {
     "data": {
      "image/png": "[encoded data removed]",
      "text/plain": [
       "<matplotlib.figure.Figure at 0x2c6fd59f588>"
      ]
     },
     "metadata": {},
     "output_type": "display_data"
    }
   ],
   "source": [
    "X_train, X_test, y_train, y_test = train_test_split(X_std, y, test_size=0.2, random_state=42)\n",
    "model = trainAndTestAModel('LinearRegression', -1, X_train, y_train, X_test, y_test, False)\n",
    "plotVariablesCoefficients(model.coef_, X.columns.tolist())"
   ]
  },
  {
   "cell_type": "markdown",
   "metadata": {},
   "source": [
    "<b> The r2 score reported here is nearly 0.01 which is extremely less. This a good motivation to extend the dimensionality of the training dataset in the pursuit of getting a higher r2 score."
   ]
  },
  {
   "cell_type": "markdown",
   "metadata": {},
   "source": [
    "## 4. title_crew"
   ]
  },
  {
   "cell_type": "code",
   "execution_count": 28,
   "metadata": {
    "collapsed": false
   },
   "outputs": [
    {
     "data": {
      "text/html": [
       "<div>\n",
       "<style scoped>\n",
       "    .dataframe tbody tr th:only-of-type {\n",
       "        vertical-align: middle;\n",
       "    }\n",
       "\n",
       "    .dataframe tbody tr th {\n",
       "        vertical-align: top;\n",
       "    }\n",
       "\n",
       "    .dataframe thead th {\n",
       "        text-align: right;\n",
       "    }\n",
       "</style>\n",
       "<table border=\"1\" class=\"dataframe\">\n",
       "  <thead>\n",
       "    <tr style=\"text-align: right;\">\n",
       "      <th></th>\n",
       "      <th>tconst</th>\n",
       "      <th>directors</th>\n",
       "      <th>writers</th>\n",
       "    </tr>\n",
       "  </thead>\n",
       "  <tbody>\n",
       "    <tr>\n",
       "      <th>0</th>\n",
       "      <td>tt0000001</td>\n",
       "      <td>nm0005690</td>\n",
       "      <td>\\N</td>\n",
       "    </tr>\n",
       "    <tr>\n",
       "      <th>1</th>\n",
       "      <td>tt0000002</td>\n",
       "      <td>nm0721526</td>\n",
       "      <td>\\N</td>\n",
       "    </tr>\n",
       "    <tr>\n",
       "      <th>2</th>\n",
       "      <td>tt0000003</td>\n",
       "      <td>nm0721526</td>\n",
       "      <td>\\N</td>\n",
       "    </tr>\n",
       "  </tbody>\n",
       "</table>\n",
       "</div>"
      ],
      "text/plain": [
       "      tconst  directors writers\n",
       "0  tt0000001  nm0005690      \\N\n",
       "1  tt0000002  nm0721526      \\N\n",
       "2  tt0000003  nm0721526      \\N"
      ]
     },
     "execution_count": 28,
     "metadata": {},
     "output_type": "execute_result"
    }
   ],
   "source": [
    "title_crew.head(3)"
   ]
  },
  {
   "cell_type": "code",
   "execution_count": 29,
   "metadata": {
    "collapsed": false
   },
   "outputs": [
    {
     "data": {
      "text/plain": [
       "tconst       0\n",
       "directors    0\n",
       "writers      0\n",
       "dtype: int64"
      ]
     },
     "execution_count": 29,
     "metadata": {},
     "output_type": "execute_result"
    }
   ],
   "source": [
    "# checking for NA:\n",
    "title_crew.isna().sum()"
   ]
  },
  {
   "cell_type": "markdown",
   "metadata": {},
   "source": [
    "## 5. title_principals"
   ]
  },
  {
   "cell_type": "code",
   "execution_count": 30,
   "metadata": {
    "collapsed": false
   },
   "outputs": [
    {
     "data": {
      "text/html": [
       "<div>\n",
       "<style scoped>\n",
       "    .dataframe tbody tr th:only-of-type {\n",
       "        vertical-align: middle;\n",
       "    }\n",
       "\n",
       "    .dataframe tbody tr th {\n",
       "        vertical-align: top;\n",
       "    }\n",
       "\n",
       "    .dataframe thead th {\n",
       "        text-align: right;\n",
       "    }\n",
       "</style>\n",
       "<table border=\"1\" class=\"dataframe\">\n",
       "  <thead>\n",
       "    <tr style=\"text-align: right;\">\n",
       "      <th></th>\n",
       "      <th>tconst</th>\n",
       "      <th>ordering</th>\n",
       "      <th>nconst</th>\n",
       "      <th>category</th>\n",
       "      <th>job</th>\n",
       "      <th>characters</th>\n",
       "    </tr>\n",
       "  </thead>\n",
       "  <tbody>\n",
       "    <tr>\n",
       "      <th>0</th>\n",
       "      <td>tt0000001</td>\n",
       "      <td>1</td>\n",
       "      <td>nm1588970</td>\n",
       "      <td>self</td>\n",
       "      <td>\\N</td>\n",
       "      <td>[\"Herself\"]</td>\n",
       "    </tr>\n",
       "    <tr>\n",
       "      <th>1</th>\n",
       "      <td>tt0000001</td>\n",
       "      <td>2</td>\n",
       "      <td>nm0005690</td>\n",
       "      <td>director</td>\n",
       "      <td>\\N</td>\n",
       "      <td>\\N</td>\n",
       "    </tr>\n",
       "    <tr>\n",
       "      <th>2</th>\n",
       "      <td>tt0000001</td>\n",
       "      <td>3</td>\n",
       "      <td>nm0374658</td>\n",
       "      <td>cinematographer</td>\n",
       "      <td>director of photography</td>\n",
       "      <td>\\N</td>\n",
       "    </tr>\n",
       "  </tbody>\n",
       "</table>\n",
       "</div>"
      ],
      "text/plain": [
       "      tconst  ordering     nconst         category                      job  \\\n",
       "0  tt0000001         1  nm1588970             self                       \\N   \n",
       "1  tt0000001         2  nm0005690         director                       \\N   \n",
       "2  tt0000001         3  nm0374658  cinematographer  director of photography   \n",
       "\n",
       "    characters  \n",
       "0  [\"Herself\"]  \n",
       "1           \\N  \n",
       "2           \\N  "
      ]
     },
     "execution_count": 30,
     "metadata": {},
     "output_type": "execute_result"
    }
   ],
   "source": [
    "title_principals.head(3)"
   ]
  },
  {
   "cell_type": "markdown",
   "metadata": {},
   "source": [
    "<b>We see that title_crew is a subset of title_principals. Because, title_crew contains information for directors and writers, while title_principals contains directors, writers and actors. An example can be seen below too:"
   ]
  },
  {
   "cell_type": "code",
   "execution_count": 31,
   "metadata": {
    "collapsed": false
   },
   "outputs": [
    {
     "data": {
      "text/html": [
       "<div>\n",
       "<style scoped>\n",
       "    .dataframe tbody tr th:only-of-type {\n",
       "        vertical-align: middle;\n",
       "    }\n",
       "\n",
       "    .dataframe tbody tr th {\n",
       "        vertical-align: top;\n",
       "    }\n",
       "\n",
       "    .dataframe thead th {\n",
       "        text-align: right;\n",
       "    }\n",
       "</style>\n",
       "<table border=\"1\" class=\"dataframe\">\n",
       "  <thead>\n",
       "    <tr style=\"text-align: right;\">\n",
       "      <th></th>\n",
       "      <th>tconst</th>\n",
       "      <th>directors</th>\n",
       "      <th>writers</th>\n",
       "    </tr>\n",
       "  </thead>\n",
       "  <tbody>\n",
       "    <tr>\n",
       "      <th>6</th>\n",
       "      <td>tt0000007</td>\n",
       "      <td>nm0374658,nm0005690</td>\n",
       "      <td>\\N</td>\n",
       "    </tr>\n",
       "  </tbody>\n",
       "</table>\n",
       "</div>"
      ],
      "text/plain": [
       "      tconst            directors writers\n",
       "6  tt0000007  nm0374658,nm0005690      \\N"
      ]
     },
     "execution_count": 31,
     "metadata": {},
     "output_type": "execute_result"
    }
   ],
   "source": [
    "title_crew[title_crew['tconst'] == 'tt0000007']"
   ]
  },
  {
   "cell_type": "code",
   "execution_count": 32,
   "metadata": {
    "collapsed": false
   },
   "outputs": [
    {
     "data": {
      "text/html": [
       "<div>\n",
       "<style scoped>\n",
       "    .dataframe tbody tr th:only-of-type {\n",
       "        vertical-align: middle;\n",
       "    }\n",
       "\n",
       "    .dataframe tbody tr th {\n",
       "        vertical-align: top;\n",
       "    }\n",
       "\n",
       "    .dataframe thead th {\n",
       "        text-align: right;\n",
       "    }\n",
       "</style>\n",
       "<table border=\"1\" class=\"dataframe\">\n",
       "  <thead>\n",
       "    <tr style=\"text-align: right;\">\n",
       "      <th></th>\n",
       "      <th>tconst</th>\n",
       "      <th>ordering</th>\n",
       "      <th>nconst</th>\n",
       "      <th>category</th>\n",
       "      <th>job</th>\n",
       "      <th>characters</th>\n",
       "    </tr>\n",
       "  </thead>\n",
       "  <tbody>\n",
       "    <tr>\n",
       "      <th>16</th>\n",
       "      <td>tt0000007</td>\n",
       "      <td>1</td>\n",
       "      <td>nm0179163</td>\n",
       "      <td>actor</td>\n",
       "      <td>\\N</td>\n",
       "      <td>\\N</td>\n",
       "    </tr>\n",
       "    <tr>\n",
       "      <th>17</th>\n",
       "      <td>tt0000007</td>\n",
       "      <td>2</td>\n",
       "      <td>nm0183947</td>\n",
       "      <td>actor</td>\n",
       "      <td>\\N</td>\n",
       "      <td>\\N</td>\n",
       "    </tr>\n",
       "    <tr>\n",
       "      <th>18</th>\n",
       "      <td>tt0000007</td>\n",
       "      <td>3</td>\n",
       "      <td>nm0005690</td>\n",
       "      <td>director</td>\n",
       "      <td>\\N</td>\n",
       "      <td>\\N</td>\n",
       "    </tr>\n",
       "    <tr>\n",
       "      <th>19</th>\n",
       "      <td>tt0000007</td>\n",
       "      <td>4</td>\n",
       "      <td>nm0374658</td>\n",
       "      <td>director</td>\n",
       "      <td>\\N</td>\n",
       "      <td>\\N</td>\n",
       "    </tr>\n",
       "    <tr>\n",
       "      <th>20</th>\n",
       "      <td>tt0000007</td>\n",
       "      <td>5</td>\n",
       "      <td>nm0249379</td>\n",
       "      <td>producer</td>\n",
       "      <td>producer</td>\n",
       "      <td>\\N</td>\n",
       "    </tr>\n",
       "  </tbody>\n",
       "</table>\n",
       "</div>"
      ],
      "text/plain": [
       "       tconst  ordering     nconst  category       job characters\n",
       "16  tt0000007         1  nm0179163     actor        \\N         \\N\n",
       "17  tt0000007         2  nm0183947     actor        \\N         \\N\n",
       "18  tt0000007         3  nm0005690  director        \\N         \\N\n",
       "19  tt0000007         4  nm0374658  director        \\N         \\N\n",
       "20  tt0000007         5  nm0249379  producer  producer         \\N"
      ]
     },
     "execution_count": 32,
     "metadata": {},
     "output_type": "execute_result"
    }
   ],
   "source": [
    "title_principals[title_principals['tconst'] == 'tt0000007']"
   ]
  },
  {
   "cell_type": "markdown",
   "metadata": {},
   "source": [
    "<b> We see that output from title_crew is already contained in the output from title_principal"
   ]
  },
  {
   "cell_type": "markdown",
   "metadata": {},
   "source": [
    "## 6. Forming training dataset which includes the directors of the movie"
   ]
  },
  {
   "cell_type": "markdown",
   "metadata": {},
   "source": [
    "##### 6(a) Preparing the dataset"
   ]
  },
  {
   "cell_type": "code",
   "execution_count": 33,
   "metadata": {
    "collapsed": true
   },
   "outputs": [],
   "source": [
    "# Keeping only the movie related titles:\n",
    "\n",
    "title_principals_movie = pd.merge(title_principals, title_and_type_mapping, on='tconst', how='left')\n",
    "title_principals_movie = title_principals_movie[title_principals_movie['titleType'] == 'movie']"
   ]
  },
  {
   "cell_type": "code",
   "execution_count": 34,
   "metadata": {
    "collapsed": false
   },
   "outputs": [
    {
     "data": {
      "text/plain": [
       "(484115, 1027753)"
      ]
     },
     "execution_count": 34,
     "metadata": {},
     "output_type": "execute_result"
    }
   ],
   "source": [
    "# Calculating unique number of directors and actors:\n",
    "\n",
    "unique_directors = title_principals_movie[title_principals_movie['category'] == 'director']['nconst']\n",
    "unique_actor = title_principals_movie[title_principals_movie['category'] == 'actor']['nconst']\n",
    "len(unique_directors), len(unique_actor)"
   ]
  },
  {
   "cell_type": "markdown",
   "metadata": {},
   "source": [
    "<b><ul><li>Adding both directors and actors in the training data will make the data very sparse and it makes my the alorithm run for hours to train. \n",
    "Hence, I am only adding directors due to time constraint.\n"
   ]
  },
  {
   "cell_type": "code",
   "execution_count": 65,
   "metadata": {
    "collapsed": false
   },
   "outputs": [],
   "source": [
    "# Gathering the ratings data first\n",
    "data = pd.merge(ratings_movie, data_titles_only_movies, on='tconst', how='left')\n",
    "data = removeRowsWithEmptyValues(data)"
   ]
  },
  {
   "cell_type": "code",
   "execution_count": 66,
   "metadata": {
    "collapsed": false
   },
   "outputs": [
    {
     "data": {
      "text/html": [
       "<div>\n",
       "<style scoped>\n",
       "    .dataframe tbody tr th:only-of-type {\n",
       "        vertical-align: middle;\n",
       "    }\n",
       "\n",
       "    .dataframe tbody tr th {\n",
       "        vertical-align: top;\n",
       "    }\n",
       "\n",
       "    .dataframe thead th {\n",
       "        text-align: right;\n",
       "    }\n",
       "</style>\n",
       "<table border=\"1\" class=\"dataframe\">\n",
       "  <thead>\n",
       "    <tr style=\"text-align: right;\">\n",
       "      <th></th>\n",
       "      <th>tconst</th>\n",
       "      <th>averageRating</th>\n",
       "      <th>numVotes</th>\n",
       "      <th>titleType</th>\n",
       "      <th>primaryTitle</th>\n",
       "      <th>originalTitle</th>\n",
       "      <th>isAdult</th>\n",
       "      <th>startYear</th>\n",
       "      <th>endYear</th>\n",
       "      <th>runtimeMinutes</th>\n",
       "      <th>genres</th>\n",
       "      <th>version_counts</th>\n",
       "    </tr>\n",
       "  </thead>\n",
       "  <tbody>\n",
       "    <tr>\n",
       "      <th>0</th>\n",
       "      <td>tt0000009</td>\n",
       "      <td>5.5</td>\n",
       "      <td>79</td>\n",
       "      <td>movie</td>\n",
       "      <td>Miss Jerry</td>\n",
       "      <td>Miss Jerry</td>\n",
       "      <td>0</td>\n",
       "      <td>1894</td>\n",
       "      <td>\\N</td>\n",
       "      <td>45</td>\n",
       "      <td>Romance</td>\n",
       "      <td>3.0</td>\n",
       "    </tr>\n",
       "    <tr>\n",
       "      <th>1</th>\n",
       "      <td>tt0000147</td>\n",
       "      <td>5.2</td>\n",
       "      <td>291</td>\n",
       "      <td>movie</td>\n",
       "      <td>The Corbett-Fitzsimmons Fight</td>\n",
       "      <td>The Corbett-Fitzsimmons Fight</td>\n",
       "      <td>0</td>\n",
       "      <td>1897</td>\n",
       "      <td>\\N</td>\n",
       "      <td>20</td>\n",
       "      <td>Documentary,News,Sport</td>\n",
       "      <td>3.0</td>\n",
       "    </tr>\n",
       "  </tbody>\n",
       "</table>\n",
       "</div>"
      ],
      "text/plain": [
       "      tconst  averageRating  numVotes titleType  \\\n",
       "0  tt0000009            5.5        79     movie   \n",
       "1  tt0000147            5.2       291     movie   \n",
       "\n",
       "                    primaryTitle                  originalTitle  isAdult  \\\n",
       "0                     Miss Jerry                     Miss Jerry        0   \n",
       "1  The Corbett-Fitzsimmons Fight  The Corbett-Fitzsimmons Fight        0   \n",
       "\n",
       "  startYear endYear runtimeMinutes                  genres  version_counts  \n",
       "0      1894      \\N             45                 Romance             3.0  \n",
       "1      1897      \\N             20  Documentary,News,Sport             3.0  "
      ]
     },
     "execution_count": 66,
     "metadata": {},
     "output_type": "execute_result"
    }
   ],
   "source": [
    "data.head(2)"
   ]
  },
  {
   "cell_type": "markdown",
   "metadata": {},
   "source": [
    "##### 6(b) Preprocessing to add directors"
   ]
  },
  {
   "cell_type": "code",
   "execution_count": 67,
   "metadata": {
    "collapsed": false
   },
   "outputs": [
    {
     "data": {
      "text/plain": [
       "91049"
      ]
     },
     "execution_count": 67,
     "metadata": {},
     "output_type": "execute_result"
    }
   ],
   "source": [
    "# Calculating the unique directors\n",
    "\n",
    "title_crew_filtered = title_crew[title_crew['tconst'].isin(data.tconst)]\n",
    "directors = []\n",
    "for i in title_crew_filtered.directors:\n",
    "    if i != '\\\\N':\n",
    "        director = i.split(',')\n",
    "        directors.extend(director)\n",
    "len(np.unique(directors))"
   ]
  },
  {
   "cell_type": "markdown",
   "metadata": {},
   "source": [
    "<b><ul><li>Total number of unique directors are 91,049. Storing a dataframe of this size is giving me MemoryError.</li> <li>One trick is to select directors which have directed atleast 30 movies. This reduces the directors count to 516</li></ul>"
   ]
  },
  {
   "cell_type": "code",
   "execution_count": 70,
   "metadata": {
    "collapsed": false
   },
   "outputs": [],
   "source": [
    "def filteringDirectors(directors, threshold):\n",
    "    filtered = []\n",
    "    directors_count = Counter(directors)\n",
    "    for i in list(directors_count.keys()):\n",
    "        if directors_count[i] > threshold:\n",
    "            filtered.append(i)\n",
    "    return filtered"
   ]
  },
  {
   "cell_type": "code",
   "execution_count": 71,
   "metadata": {
    "collapsed": false
   },
   "outputs": [
    {
     "data": {
      "text/plain": [
       "516"
      ]
     },
     "execution_count": 71,
     "metadata": {},
     "output_type": "execute_result"
    }
   ],
   "source": [
    "directors = filteringDirectors(directors, 30)\n",
    "len(directors)"
   ]
  },
  {
   "cell_type": "code",
   "execution_count": 72,
   "metadata": {
    "collapsed": false
   },
   "outputs": [],
   "source": [
    "# Craeting a dataframe for these directors\n",
    "df_directors = pd.DataFrame(index=data.index, columns=directors)\n",
    "df_directors = df_directors.fillna(0)\n",
    "\n",
    "# Removing unnecessary columns and imputing NA values\n",
    "data = data.drop(columns=['titleType','primaryTitle', 'originalTitle', 'endYear', 'genres'])\n",
    "data = data.fillna(value={'version_counts':1})"
   ]
  },
  {
   "cell_type": "code",
   "execution_count": 73,
   "metadata": {
    "collapsed": false
   },
   "outputs": [
    {
     "data": {
      "text/html": [
       "<div>\n",
       "<style scoped>\n",
       "    .dataframe tbody tr th:only-of-type {\n",
       "        vertical-align: middle;\n",
       "    }\n",
       "\n",
       "    .dataframe tbody tr th {\n",
       "        vertical-align: top;\n",
       "    }\n",
       "\n",
       "    .dataframe thead th {\n",
       "        text-align: right;\n",
       "    }\n",
       "</style>\n",
       "<table border=\"1\" class=\"dataframe\">\n",
       "  <thead>\n",
       "    <tr style=\"text-align: right;\">\n",
       "      <th></th>\n",
       "      <th>tconst</th>\n",
       "      <th>averageRating</th>\n",
       "      <th>numVotes</th>\n",
       "      <th>isAdult</th>\n",
       "      <th>startYear</th>\n",
       "      <th>runtimeMinutes</th>\n",
       "      <th>version_counts</th>\n",
       "    </tr>\n",
       "  </thead>\n",
       "  <tbody>\n",
       "    <tr>\n",
       "      <th>0</th>\n",
       "      <td>tt0000009</td>\n",
       "      <td>5.5</td>\n",
       "      <td>79</td>\n",
       "      <td>0</td>\n",
       "      <td>1894</td>\n",
       "      <td>45</td>\n",
       "      <td>3.0</td>\n",
       "    </tr>\n",
       "    <tr>\n",
       "      <th>1</th>\n",
       "      <td>tt0000147</td>\n",
       "      <td>5.2</td>\n",
       "      <td>291</td>\n",
       "      <td>0</td>\n",
       "      <td>1897</td>\n",
       "      <td>20</td>\n",
       "      <td>3.0</td>\n",
       "    </tr>\n",
       "    <tr>\n",
       "      <th>2</th>\n",
       "      <td>tt0000574</td>\n",
       "      <td>6.2</td>\n",
       "      <td>508</td>\n",
       "      <td>0</td>\n",
       "      <td>1906</td>\n",
       "      <td>70</td>\n",
       "      <td>4.0</td>\n",
       "    </tr>\n",
       "  </tbody>\n",
       "</table>\n",
       "</div>"
      ],
      "text/plain": [
       "      tconst  averageRating  numVotes  isAdult startYear runtimeMinutes  \\\n",
       "0  tt0000009            5.5        79        0      1894             45   \n",
       "1  tt0000147            5.2       291        0      1897             20   \n",
       "2  tt0000574            6.2       508        0      1906             70   \n",
       "\n",
       "   version_counts  \n",
       "0             3.0  \n",
       "1             3.0  \n",
       "2             4.0  "
      ]
     },
     "execution_count": 73,
     "metadata": {},
     "output_type": "execute_result"
    }
   ],
   "source": [
    "data.head(3)"
   ]
  },
  {
   "cell_type": "code",
   "execution_count": 74,
   "metadata": {
    "collapsed": true
   },
   "outputs": [],
   "source": [
    "title_directors_mapping = title_crew_filtered[['tconst', 'directors']].set_index('tconst').T.to_dict('list')"
   ]
  },
  {
   "cell_type": "code",
   "execution_count": 88,
   "metadata": {
    "collapsed": false
   },
   "outputs": [],
   "source": [
    "for idx, row in data.iterrows():\n",
    "    title = row['tconst']\n",
    "    director = title_directors_mapping[title][0]\n",
    "    director = director.split(',')\n",
    "    for d in director:\n",
    "        if d in directors:\n",
    "            df_directors.iloc[idx][d] = 1"
   ]
  },
  {
   "cell_type": "code",
   "execution_count": 113,
   "metadata": {
    "collapsed": false
   },
   "outputs": [
    {
     "data": {
      "text/html": [
       "<div>\n",
       "<style scoped>\n",
       "    .dataframe tbody tr th:only-of-type {\n",
       "        vertical-align: middle;\n",
       "    }\n",
       "\n",
       "    .dataframe tbody tr th {\n",
       "        vertical-align: top;\n",
       "    }\n",
       "\n",
       "    .dataframe thead th {\n",
       "        text-align: right;\n",
       "    }\n",
       "</style>\n",
       "<table border=\"1\" class=\"dataframe\">\n",
       "  <thead>\n",
       "    <tr style=\"text-align: right;\">\n",
       "      <th></th>\n",
       "      <th>averageRating</th>\n",
       "      <th>numVotes</th>\n",
       "      <th>isAdult</th>\n",
       "      <th>startYear</th>\n",
       "      <th>runtimeMinutes</th>\n",
       "      <th>version_counts</th>\n",
       "      <th>nm0947998</th>\n",
       "      <th>nm0950109</th>\n",
       "      <th>nm0043622</th>\n",
       "      <th>nm0166730</th>\n",
       "      <th>...</th>\n",
       "      <th>nm0850466</th>\n",
       "      <th>nm0587741</th>\n",
       "      <th>nm0388648</th>\n",
       "      <th>nm0916125</th>\n",
       "      <th>nm0800373</th>\n",
       "      <th>nm0192698</th>\n",
       "      <th>nm0307819</th>\n",
       "      <th>nm0434189</th>\n",
       "      <th>nm0226189</th>\n",
       "      <th>nm0718469</th>\n",
       "    </tr>\n",
       "  </thead>\n",
       "  <tbody>\n",
       "    <tr>\n",
       "      <th>0</th>\n",
       "      <td>5.5</td>\n",
       "      <td>79</td>\n",
       "      <td>0</td>\n",
       "      <td>1894</td>\n",
       "      <td>45</td>\n",
       "      <td>3.0</td>\n",
       "      <td>0</td>\n",
       "      <td>0</td>\n",
       "      <td>0</td>\n",
       "      <td>0</td>\n",
       "      <td>...</td>\n",
       "      <td>0</td>\n",
       "      <td>0</td>\n",
       "      <td>0</td>\n",
       "      <td>0</td>\n",
       "      <td>0</td>\n",
       "      <td>0</td>\n",
       "      <td>0</td>\n",
       "      <td>0</td>\n",
       "      <td>0</td>\n",
       "      <td>0</td>\n",
       "    </tr>\n",
       "    <tr>\n",
       "      <th>1</th>\n",
       "      <td>5.2</td>\n",
       "      <td>291</td>\n",
       "      <td>0</td>\n",
       "      <td>1897</td>\n",
       "      <td>20</td>\n",
       "      <td>3.0</td>\n",
       "      <td>0</td>\n",
       "      <td>0</td>\n",
       "      <td>0</td>\n",
       "      <td>0</td>\n",
       "      <td>...</td>\n",
       "      <td>0</td>\n",
       "      <td>0</td>\n",
       "      <td>0</td>\n",
       "      <td>0</td>\n",
       "      <td>0</td>\n",
       "      <td>0</td>\n",
       "      <td>0</td>\n",
       "      <td>0</td>\n",
       "      <td>0</td>\n",
       "      <td>0</td>\n",
       "    </tr>\n",
       "    <tr>\n",
       "      <th>2</th>\n",
       "      <td>6.2</td>\n",
       "      <td>508</td>\n",
       "      <td>0</td>\n",
       "      <td>1906</td>\n",
       "      <td>70</td>\n",
       "      <td>4.0</td>\n",
       "      <td>0</td>\n",
       "      <td>0</td>\n",
       "      <td>0</td>\n",
       "      <td>0</td>\n",
       "      <td>...</td>\n",
       "      <td>0</td>\n",
       "      <td>0</td>\n",
       "      <td>0</td>\n",
       "      <td>0</td>\n",
       "      <td>0</td>\n",
       "      <td>0</td>\n",
       "      <td>0</td>\n",
       "      <td>0</td>\n",
       "      <td>0</td>\n",
       "      <td>0</td>\n",
       "    </tr>\n",
       "  </tbody>\n",
       "</table>\n",
       "<p>3 rows × 522 columns</p>\n",
       "</div>"
      ],
      "text/plain": [
       "   averageRating  numVotes  isAdult startYear runtimeMinutes  version_counts  \\\n",
       "0            5.5        79        0      1894             45             3.0   \n",
       "1            5.2       291        0      1897             20             3.0   \n",
       "2            6.2       508        0      1906             70             4.0   \n",
       "\n",
       "   nm0947998  nm0950109  nm0043622  nm0166730    ...      nm0850466  \\\n",
       "0          0          0          0          0    ...              0   \n",
       "1          0          0          0          0    ...              0   \n",
       "2          0          0          0          0    ...              0   \n",
       "\n",
       "   nm0587741  nm0388648  nm0916125  nm0800373  nm0192698  nm0307819  \\\n",
       "0          0          0          0          0          0          0   \n",
       "1          0          0          0          0          0          0   \n",
       "2          0          0          0          0          0          0   \n",
       "\n",
       "   nm0434189  nm0226189  nm0718469  \n",
       "0          0          0          0  \n",
       "1          0          0          0  \n",
       "2          0          0          0  \n",
       "\n",
       "[3 rows x 522 columns]"
      ]
     },
     "execution_count": 113,
     "metadata": {},
     "output_type": "execute_result"
    }
   ],
   "source": [
    "data_with_directors = pd.concat([data, df_directors], axis=1)\n",
    "data_with_directors = data_with_directors.drop(axis=1, columns=['tconst'])\n",
    "data_with_directors.head(3)"
   ]
  },
  {
   "cell_type": "code",
   "execution_count": 196,
   "metadata": {
    "collapsed": false
   },
   "outputs": [],
   "source": [
    "X, y = prepareData(data_with_directors, 'averageRating')\n",
    "# Standardizing the datasets:\n",
    "scaler = StandardScaler()\n",
    "scaler.fit(X)\n",
    "X_std = scaler.transform(X)\n",
    "\n",
    "X_train, X_test, y_train, y_test = train_test_split(X_std, y, test_size=0.2, random_state=42)"
   ]
  },
  {
   "cell_type": "markdown",
   "metadata": {},
   "source": [
    "##### 6(c) Training and testing ols, lasso and ridge models"
   ]
  },
  {
   "cell_type": "markdown",
   "metadata": {},
   "source": [
    "<ul>\n",
    "<li> I am using 5 fold cross validation to understand which model performs the best. This is being done indiviudally for lasso and ridge</li>\n",
    "<li> CV is done along with a predefined range of alpha values ( the range is np.exp(np.arange(0.001,-10,-0.5)) ) for lasso ad ridge</li>\n",
    "<li> The data is then trained using the model which performed best for both lasso and ridge</li>\n",
    "</ul>"
   ]
  },
  {
   "cell_type": "code",
   "execution_count": 197,
   "metadata": {
    "collapsed": false
   },
   "outputs": [],
   "source": [
    "# Cross validation on a set of alpha values\n",
    "alpha_range = np.exp(np.arange(0.001,-10,-0.5))\n",
    "\n",
    "lasso_score_list = CrossValidationOnASelectedModel('Lasso', X_train, y_train, alpha_range, 5)\n",
    "ridge_score_list = CrossValidationOnASelectedModel('Ridge', X_train, y_train, alpha_range, 5)\n",
    "\n",
    "# Extractiong the best alpha\n",
    "lasso_best_alpha = getBestHyperparameterVal(lasso_score_list, alpha_range)\n",
    "ridge_best_alpha = getBestHyperparameterVal(ridge_score_list, alpha_range)"
   ]
  },
  {
   "cell_type": "code",
   "execution_count": 199,
   "metadata": {
    "collapsed": false
   },
   "outputs": [
    {
     "name": "stdout",
     "output_type": "stream",
     "text": [
      "The mean squared error for LinearRegression is : 1.67586334288\n",
      "The r2 score for LinearRegression is : 0.0315775074605\n",
      "The mean squared error for Lasso is : 1.68034688213\n",
      "The r2 score for Lasso is : 0.0289866277975\n",
      "The mean squared error for Ridge is : 1.67586332877\n",
      "The r2 score for Ridge is : 0.0315775156151\n"
     ]
    }
   ],
   "source": [
    "# Training various linear regression models\n",
    "\n",
    "ols = trainAndTestAModel('LinearRegression', -1, X_train, y_train, X_test, y_test, False)\n",
    "lasso_model = trainAndTestAModel('Lasso', lasso_best_alpha, X_train, y_train, X_test, y_test, True)\n",
    "ridge_model = trainAndTestAModel('Ridge', ridge_best_alpha, X_train, y_train, X_test, y_test, True)"
   ]
  },
  {
   "cell_type": "markdown",
   "metadata": {},
   "source": [
    "<b><ul><li>We see here that the max r2 score obtained is 0.032 which is three times the baseline score (0.01)</li>\n",
    "<li> We could see that the r2 score is not great enough which means that adding directors didn't help the model much in the prediction task</li>"
   ]
  },
  {
   "cell_type": "code",
   "execution_count": 261,
   "metadata": {
    "collapsed": false
   },
   "outputs": [
    {
     "data": {
      "image/png": "[encoded data removed]",
      "text/plain": [
       "<matplotlib.figure.Figure at 0x2c8a096dbe0>"
      ]
     },
     "metadata": {},
     "output_type": "display_data"
    }
   ],
   "source": [
    "# Visualizing top 10 featurs by lasso coeff:\n",
    "\n",
    "top_n_idx = lasso_model.coef_.argsort()[-10:]\n",
    "cols = data_with_directors.columns.tolist()\n",
    "cols.remove('averageRating')\n",
    "top_n_feat = np.array(cols)[top_n_idx]\n",
    "for i in range(len(top_n_feat)):\n",
    "    if top_n_feat[i] in list(name_basics['nconst']):\n",
    "        top_n_feat[i] = name_basics[name_basics['nconst']==top_n_feat[i]]['primaryName'].iloc[0]\n",
    "\n",
    "plt.bar(np.arange(0,len(top_n_idx), 1), lasso_model.coef_[top_n_idx])\n",
    "plt.xticks(np.arange(0,len(top_n_idx), 1), top_n_feat, rotation=45)\n",
    "plt.show()"
   ]
  },
  {
   "cell_type": "markdown",
   "metadata": {},
   "source": [
    "<b> From the above graph we could see that, presence of few of the directors and number of votes given to a movie greatly influences the rating of the movie"
   ]
  },
  {
   "cell_type": "markdown",
   "metadata": {},
   "source": [
    "# 7. Adding genres as features in the dataset"
   ]
  },
  {
   "cell_type": "markdown",
   "metadata": {},
   "source": [
    "##### 7(a) preprocessing to add genres in the dataset"
   ]
  },
  {
   "cell_type": "code",
   "execution_count": 227,
   "metadata": {
    "collapsed": true
   },
   "outputs": [],
   "source": [
    "# Extracting unique genres for each movie\n",
    "def extract_unique_genres(df):\n",
    "    genres = list(df['genres'])\n",
    "    unique_genres = []\n",
    "    for i in range(len(genres)):\n",
    "        s = genres[i].split(',')\n",
    "        unique_genres.extend(s)\n",
    "    return np.unique(unique_genres)\n",
    "unique_genres = extract_unique_genres(data_titles_only_movies)\n",
    "\n",
    "# Performing one hot encoding on the extracted movie genres\n",
    "def add_genres_df(genres, genre_df, df):\n",
    "    for idx, row in df.iterrows():\n",
    "        genre = row['genres'].split(',')\n",
    "        for i in genre:\n",
    "            genre_df[i][idx] = 1\n",
    "    final = pd.concat([df, genre_df], axis=1)\n",
    "    return final"
   ]
  },
  {
   "cell_type": "code",
   "execution_count": 342,
   "metadata": {
    "collapsed": false
   },
   "outputs": [],
   "source": [
    "index = data_titles_only_movies.index\n",
    "genre_df = pd.DataFrame(index=index, columns=unique_genres)\n",
    "genre_df = genre_df.fillna(0)\n",
    "data_titles_with_genres = add_genres_df(unique_genres, genre_df, data_titles_only_movies)\n",
    "data_titles_with_genres = data_titles_with_genres.drop(axis=1, columns=['genres'])"
   ]
  },
  {
   "cell_type": "code",
   "execution_count": 229,
   "metadata": {
    "collapsed": false
   },
   "outputs": [
    {
     "data": {
      "text/plain": [
       "tconst                0\n",
       "primaryTitle          0\n",
       "originalTitle         0\n",
       "isAdult               0\n",
       "startYear             0\n",
       "endYear               0\n",
       "runtimeMinutes        0\n",
       "version_counts    64185\n",
       "Action                0\n",
       "Adult                 0\n",
       "Adventure             0\n",
       "Animation             0\n",
       "Biography             0\n",
       "Comedy                0\n",
       "Crime                 0\n",
       "Documentary           0\n",
       "Drama                 0\n",
       "Family                0\n",
       "Fantasy               0\n",
       "Film-Noir             0\n",
       "Game-Show             0\n",
       "History               0\n",
       "Horror                0\n",
       "Music                 0\n",
       "Musical               0\n",
       "Mystery               0\n",
       "News                  0\n",
       "Reality-TV            0\n",
       "Romance               0\n",
       "Sci-Fi                0\n",
       "Short                 0\n",
       "Sport                 0\n",
       "Talk-Show             0\n",
       "Thriller              0\n",
       "War                   0\n",
       "Western               0\n",
       "\\N                    0\n",
       "dtype: int64"
      ]
     },
     "execution_count": 229,
     "metadata": {},
     "output_type": "execute_result"
    }
   ],
   "source": [
    "# Check for NA\n",
    "data_titles_with_genres.isna().sum()"
   ]
  },
  {
   "cell_type": "code",
   "execution_count": 447,
   "metadata": {
    "collapsed": false
   },
   "outputs": [
    {
     "data": {
      "text/plain": [
       "0.12409660916673433"
      ]
     },
     "execution_count": 447,
     "metadata": {},
     "output_type": "execute_result"
    }
   ],
   "source": [
    "64185/len(data_titles_only_movies)"
   ]
  },
  {
   "cell_type": "markdown",
   "metadata": {},
   "source": [
    "<b> We could see that version counts has 12% of NA values"
   ]
  },
  {
   "cell_type": "markdown",
   "metadata": {},
   "source": [
    "<b> This may have resulted from some titleId's not being present in the title_akas.tsv file. <br>\n",
    "Hence, there must be only 1 version of these titleId's. So, lets go ahead and replace them"
   ]
  },
  {
   "cell_type": "code",
   "execution_count": 328,
   "metadata": {
    "collapsed": true
   },
   "outputs": [],
   "source": [
    "data_titles_with_genres = data_titles_with_genres.fillna(value={'version_counts':1})"
   ]
  },
  {
   "cell_type": "markdown",
   "metadata": {},
   "source": [
    "<b> Also lets rename the column \\N to a more meaningful name as 'genre_not_assigned'"
   ]
  },
  {
   "cell_type": "code",
   "execution_count": 448,
   "metadata": {
    "collapsed": true
   },
   "outputs": [],
   "source": [
    "data_titles_with_genres = data_titles_with_genres.rename(columns={'\\\\N': 'genre_not_assigned'})"
   ]
  },
  {
   "cell_type": "code",
   "execution_count": 449,
   "metadata": {
    "collapsed": true
   },
   "outputs": [],
   "source": [
    "data_titles_with_genres = pd.merge(ratings_movie, data_titles_with_genres, on='tconst', how='left')\n",
    "data_titles_with_genres = data_titles_with_genres.drop(axis=1, columns=['tconst', 'primaryTitle', 'originalTitle', 'endYear', 'titleType'])\n",
    "data_titles_with_genres = removeRowsWithEmptyValues(data_titles_with_genres)"
   ]
  },
  {
   "cell_type": "code",
   "execution_count": 450,
   "metadata": {
    "collapsed": false
   },
   "outputs": [
    {
     "data": {
      "text/html": [
       "<div>\n",
       "<style scoped>\n",
       "    .dataframe tbody tr th:only-of-type {\n",
       "        vertical-align: middle;\n",
       "    }\n",
       "\n",
       "    .dataframe tbody tr th {\n",
       "        vertical-align: top;\n",
       "    }\n",
       "\n",
       "    .dataframe thead th {\n",
       "        text-align: right;\n",
       "    }\n",
       "</style>\n",
       "<table border=\"1\" class=\"dataframe\">\n",
       "  <thead>\n",
       "    <tr style=\"text-align: right;\">\n",
       "      <th></th>\n",
       "      <th>averageRating</th>\n",
       "      <th>numVotes</th>\n",
       "      <th>isAdult</th>\n",
       "      <th>startYear</th>\n",
       "      <th>runtimeMinutes</th>\n",
       "      <th>version_counts</th>\n",
       "      <th>Action</th>\n",
       "      <th>Adult</th>\n",
       "      <th>Adventure</th>\n",
       "      <th>Animation</th>\n",
       "      <th>...</th>\n",
       "      <th>Reality-TV</th>\n",
       "      <th>Romance</th>\n",
       "      <th>Sci-Fi</th>\n",
       "      <th>Short</th>\n",
       "      <th>Sport</th>\n",
       "      <th>Talk-Show</th>\n",
       "      <th>Thriller</th>\n",
       "      <th>War</th>\n",
       "      <th>Western</th>\n",
       "      <th>genre_not_assigned</th>\n",
       "    </tr>\n",
       "  </thead>\n",
       "  <tbody>\n",
       "    <tr>\n",
       "      <th>0</th>\n",
       "      <td>5.5</td>\n",
       "      <td>79</td>\n",
       "      <td>0</td>\n",
       "      <td>1894</td>\n",
       "      <td>45</td>\n",
       "      <td>3.0</td>\n",
       "      <td>0</td>\n",
       "      <td>0</td>\n",
       "      <td>0</td>\n",
       "      <td>0</td>\n",
       "      <td>...</td>\n",
       "      <td>0</td>\n",
       "      <td>1</td>\n",
       "      <td>0</td>\n",
       "      <td>0</td>\n",
       "      <td>0</td>\n",
       "      <td>0</td>\n",
       "      <td>0</td>\n",
       "      <td>0</td>\n",
       "      <td>0</td>\n",
       "      <td>0</td>\n",
       "    </tr>\n",
       "    <tr>\n",
       "      <th>1</th>\n",
       "      <td>5.2</td>\n",
       "      <td>291</td>\n",
       "      <td>0</td>\n",
       "      <td>1897</td>\n",
       "      <td>20</td>\n",
       "      <td>3.0</td>\n",
       "      <td>0</td>\n",
       "      <td>0</td>\n",
       "      <td>0</td>\n",
       "      <td>0</td>\n",
       "      <td>...</td>\n",
       "      <td>0</td>\n",
       "      <td>0</td>\n",
       "      <td>0</td>\n",
       "      <td>0</td>\n",
       "      <td>1</td>\n",
       "      <td>0</td>\n",
       "      <td>0</td>\n",
       "      <td>0</td>\n",
       "      <td>0</td>\n",
       "      <td>0</td>\n",
       "    </tr>\n",
       "    <tr>\n",
       "      <th>2</th>\n",
       "      <td>6.2</td>\n",
       "      <td>508</td>\n",
       "      <td>0</td>\n",
       "      <td>1906</td>\n",
       "      <td>70</td>\n",
       "      <td>4.0</td>\n",
       "      <td>0</td>\n",
       "      <td>0</td>\n",
       "      <td>0</td>\n",
       "      <td>0</td>\n",
       "      <td>...</td>\n",
       "      <td>0</td>\n",
       "      <td>0</td>\n",
       "      <td>0</td>\n",
       "      <td>0</td>\n",
       "      <td>0</td>\n",
       "      <td>0</td>\n",
       "      <td>0</td>\n",
       "      <td>0</td>\n",
       "      <td>0</td>\n",
       "      <td>0</td>\n",
       "    </tr>\n",
       "  </tbody>\n",
       "</table>\n",
       "<p>3 rows × 35 columns</p>\n",
       "</div>"
      ],
      "text/plain": [
       "   averageRating  numVotes  isAdult startYear runtimeMinutes  version_counts  \\\n",
       "0            5.5        79        0      1894             45             3.0   \n",
       "1            5.2       291        0      1897             20             3.0   \n",
       "2            6.2       508        0      1906             70             4.0   \n",
       "\n",
       "   Action  Adult  Adventure  Animation         ...          Reality-TV  \\\n",
       "0       0      0          0          0         ...                   0   \n",
       "1       0      0          0          0         ...                   0   \n",
       "2       0      0          0          0         ...                   0   \n",
       "\n",
       "   Romance  Sci-Fi  Short  Sport  Talk-Show  Thriller  War  Western  \\\n",
       "0        1       0      0      0          0         0    0        0   \n",
       "1        0       0      0      1          0         0    0        0   \n",
       "2        0       0      0      0          0         0    0        0   \n",
       "\n",
       "   genre_not_assigned  \n",
       "0                   0  \n",
       "1                   0  \n",
       "2                   0  \n",
       "\n",
       "[3 rows x 35 columns]"
      ]
     },
     "execution_count": 450,
     "metadata": {},
     "output_type": "execute_result"
    }
   ],
   "source": [
    "data_titles_with_genres.head(3)"
   ]
  },
  {
   "cell_type": "markdown",
   "metadata": {},
   "source": [
    "##### 7(b) Data preparation for training"
   ]
  },
  {
   "cell_type": "code",
   "execution_count": 236,
   "metadata": {
    "collapsed": false
   },
   "outputs": [],
   "source": [
    "# Creating train and test datasets and running the model\n",
    "\n",
    "X, y = prepareData(data_titles_with_genres, 'averageRating')\n",
    "# Standardizing the datasets:\n",
    "scaler = StandardScaler()\n",
    "scaler.fit(X)\n",
    "X_std = scaler.transform(X)\n",
    "\n",
    "X_train, X_test, y_train, y_test = train_test_split(X_std, y, test_size=0.2, random_state=42)"
   ]
  },
  {
   "cell_type": "markdown",
   "metadata": {},
   "source": [
    "##### 7(c) Training and testing ols, lasso, ridge"
   ]
  },
  {
   "cell_type": "markdown",
   "metadata": {},
   "source": [
    "<ul>\n",
    "<li> I am using 5 fold cross validation to understand which model performs the best. This is being done indiviudally for lasso and ridge</li>\n",
    "<li> CV is done along with a predefined range of alpha values ( the range is np.exp(np.arange(0.001,-10,-0.5)) ) for lasso ad ridge</li>\n",
    "<li> The data is then trained using the model which performed best for both lasso and ridge</li>\n",
    "</ul>"
   ]
  },
  {
   "cell_type": "code",
   "execution_count": 249,
   "metadata": {
    "collapsed": false
   },
   "outputs": [],
   "source": [
    "alpha_range = np.exp(np.arange(0.001,-10,-0.5))\n",
    "lasso_score_list = CrossValidationOnASelectedModel('Lasso', X_train, y_train, alpha_range, 5)\n",
    "print(\"lasso - done\")\n",
    "ridge_score_list = CrossValidationOnASelectedModel('Ridge', X_train, y_train, alpha_range, 5)\n",
    "print(\"ridge - done\")\n",
    "lasso_best_alpha_genres = getBestHyperparameterVal(lasso_score_list, alpha_range)\n",
    "ridge_best_alpha_genres = getBestHyperparameterVal(ridge_score_list, alpha_range)"
   ]
  },
  {
   "cell_type": "code",
   "execution_count": 252,
   "metadata": {
    "collapsed": false
   },
   "outputs": [
    {
     "name": "stdout",
     "output_type": "stream",
     "text": [
      "The mean squared error for LinearRegression is : 1.38165856346\n",
      "The r2 score for LinearRegression is : 0.201588103499\n",
      "The mean squared error for Lasso is : 1.38812333683\n",
      "The r2 score for Lasso is : 0.197852338311\n",
      "The mean squared error for Ridge is : 1.38165847805\n",
      "The r2 score for Ridge is : 0.201588152858\n"
     ]
    }
   ],
   "source": [
    "ols = trainAndTestAModel('LinearRegression', -1, X_train, y_train, X_test, y_test, False)\n",
    "lasso_model_genres = trainAndTestAModel('Lasso', lasso_best_alpha_genres, X_train, y_train, X_test, y_test, True)\n",
    "ridge_model_genres = trainAndTestAModel('Ridge', ridge_best_alpha_genres, X_train, y_train, X_test, y_test, True)"
   ]
  },
  {
   "cell_type": "markdown",
   "metadata": {},
   "source": [
    "<b> We see here that the max r2 score obtained is 0.20 which is 20 times the baseline score (0.01).<br> Lets visualize the important variables below:"
   ]
  },
  {
   "cell_type": "code",
   "execution_count": 260,
   "metadata": {
    "collapsed": false
   },
   "outputs": [
    {
     "data": {
      "image/png": "[encoded data removed]",
      "text/plain": [
       "<matplotlib.figure.Figure at 0x2c8aa3e6eb8>"
      ]
     },
     "metadata": {},
     "output_type": "display_data"
    }
   ],
   "source": [
    "# Visualizing top 10 featurs by lasso coeff:\n",
    "\n",
    "top_n_idx = lasso_model_genres.coef_.argsort()[-10:]\n",
    "cols = data_titles_with_genres.columns.tolist()\n",
    "cols.remove('averageRating')\n",
    "top_n_feat = np.array(cols)[top_n_idx]\n",
    "for i in range(len(top_n_feat)):\n",
    "    if top_n_feat[i] in list(name_basics['nconst']):\n",
    "        top_n_feat[i] = name_basics[name_basics['nconst']==top_n_feat[i]]['primaryName'].iloc[0]\n",
    "\n",
    "plt.bar(np.arange(0,len(top_n_idx), 1), lasso_model.coef_[top_n_idx])\n",
    "plt.xticks(np.arange(0,len(top_n_idx), 1), top_n_feat, rotation=35)\n",
    "plt.show()"
   ]
  },
  {
   "cell_type": "markdown",
   "metadata": {},
   "source": [
    "<b> The graph says that the rating of the movie is greatly influenced by number of votes, and the genre of the movie"
   ]
  },
  {
   "cell_type": "markdown",
   "metadata": {},
   "source": [
    "##### 7(d) We see that adding genres data gives a huge boost in the r2 score. <br> So it would be better to see the results obtained by using Random Forest and Adaboost regression too\n"
   ]
  },
  {
   "cell_type": "markdown",
   "metadata": {},
   "source": [
    "<b> <u>Note</u>: I am tuning only on hyperparameter (n_estimtors) due to computing and time constraints"
   ]
  },
  {
   "cell_type": "code",
   "execution_count": 457,
   "metadata": {
    "collapsed": false
   },
   "outputs": [
    {
     "name": "stdout",
     "output_type": "stream",
     "text": [
      "adaboost reg done\n",
      "random forests reg done\n"
     ]
    }
   ],
   "source": [
    "## Trying RandomForest Regression and Adaboost Regression\n",
    "\n",
    "# Cross validation\n",
    "n_estimators = np.arange(10, 150, 10)\n",
    "adaboost_regressor_score_list = CrossValidationOnASelectedModelII('AdaBoostRegressor', X_train, y_train, n_estimators, 5)\n",
    "print('adaboost reg done')\n",
    "rf_regressor_score_list = CrossValidationOnASelectedModelII('RandomForestRegressor', X_train, y_train, n_estimators, 5)\n",
    "print(\"random forests reg done\")\n",
    "\n",
    "# Extracting the best n_estimators value\n",
    "adaboost_reg_best_n_estimators = getBestHyperparameterVal(adaboost_regressor_score_list, n_estimators)\n",
    "rf_reg_best_n_estimators = getBestHyperparameterVal(rf_regressor_score_list, n_estimators)"
   ]
  },
  {
   "cell_type": "code",
   "execution_count": 458,
   "metadata": {
    "collapsed": false
   },
   "outputs": [
    {
     "data": {
      "image/png": "[encoded data removed]",
      "text/plain": [
       "<matplotlib.figure.Figure at 0x2c8a3dfe1d0>"
      ]
     },
     "metadata": {},
     "output_type": "display_data"
    }
   ],
   "source": [
    "# Plotting n_estimators vs the score\n",
    "\n",
    "plt.plot(n_estimators, adaboost_regressor_score_list)\n",
    "plt.xlabel('n_estimators')\n",
    "plt.ylabel('Negative MSE')\n",
    "plt.show()"
   ]
  },
  {
   "cell_type": "code",
   "execution_count": 459,
   "metadata": {
    "collapsed": false
   },
   "outputs": [
    {
     "data": {
      "image/png": "[encoded data removed]",
      "text/plain": [
       "<matplotlib.figure.Figure at 0x2c8a12459b0>"
      ]
     },
     "metadata": {},
     "output_type": "display_data"
    }
   ],
   "source": [
    "plt.plot(n_estimators, rf_regressor_score_list)\n",
    "plt.xlabel('n_estimators')\n",
    "plt.ylabel('Negative MSE')\n",
    "plt.show()"
   ]
  },
  {
   "cell_type": "code",
   "execution_count": 455,
   "metadata": {
    "collapsed": false
   },
   "outputs": [
    {
     "name": "stdout",
     "output_type": "stream",
     "text": [
      "The mean squared error for AdaBoostRegressor is : 1.4813410221\n",
      "The r2 score for AdaBoostRegressor is : 0.14398511608\n",
      "The mean squared error for RandomForestRegressor is : 1.28587775251\n",
      "The r2 score for RandomForestRegressor is : 0.256936465924\n"
     ]
    }
   ],
   "source": [
    "# Training on the two ensemble models\n",
    "adaboost_regressor_model = trainAndTestAModelII('AdaBoostRegressor', adaboost_reg_best_n_estimators, X_train, y_train, X_test, y_test)\n",
    "rf_regressor_model = trainAndTestAModelII('RandomForestRegressor', rf_reg_best_n_estimators, X_train, y_train, X_test, y_test)"
   ]
  },
  {
   "cell_type": "markdown",
   "metadata": {},
   "source": [
    "<b>We see that the new r2 score is 25 times than the baseline score. This conveys that genres is a very important indicator while estimating the movie ratings. The below graph also says the same thing:"
   ]
  },
  {
   "cell_type": "code",
   "execution_count": 454,
   "metadata": {
    "collapsed": false
   },
   "outputs": [
    {
     "data": {
      "image/png": "[encoded data removed]",
      "text/plain": [
       "<matplotlib.figure.Figure at 0x2c8a1c804e0>"
      ]
     },
     "metadata": {},
     "output_type": "display_data"
    }
   ],
   "source": [
    "feature_imp_coeff = rf_regressor_model.feature_importances_\n",
    "\n",
    "plt.figure(figsize=(14,6))\n",
    "top_n_idx = feature_imp_coeff.argsort()[-20:]\n",
    "cols = data_titles_with_genres.columns.tolist()\n",
    "cols.remove('averageRating')\n",
    "top_n_feat = np.array(cols)[top_n_idx]\n",
    "for i in range(len(top_n_feat)):\n",
    "    if top_n_feat[i] in list(name_basics['nconst']):\n",
    "        top_n_feat[i] = name_basics[name_basics['nconst']==top_n_feat[i]]['primaryName'].iloc[0]\n",
    "\n",
    "plt.bar(np.arange(0,len(top_n_idx), 1), feature_imp_coeff[top_n_idx])\n",
    "plt.xticks(np.arange(0,len(top_n_idx), 1), top_n_feat, rotation=35)\n",
    "plt.show()"
   ]
  },
  {
   "cell_type": "markdown",
   "metadata": {},
   "source": [
    "## 8 Genres and directors data together"
   ]
  },
  {
   "cell_type": "markdown",
   "metadata": {},
   "source": [
    "<b> We have seen that the model performs a lot better the addition of genres data and somewhat better with directors data. Hence I am experimenting by merging both of them and then training the models"
   ]
  },
  {
   "cell_type": "markdown",
   "metadata": {},
   "source": [
    "##### 8(a) Data preprocessing"
   ]
  },
  {
   "cell_type": "code",
   "execution_count": 343,
   "metadata": {
    "collapsed": false
   },
   "outputs": [],
   "source": [
    "data_with_directors_II = pd.concat([data, df_directors], axis=1)\n",
    "data_titles_with_genres = add_genres_df(unique_genres, genre_df, data_titles_only_movies)\n",
    "data_titles_with_genres = data_titles_with_genres.drop(axis=1, columns=['genres'])\n",
    "data_titles_with_genres = data_titles_with_genres.fillna(value={'version_counts':1})\n",
    "data_titles_with_genres = data_titles_with_genres.rename(columns={'\\\\N': 'genre_not_assigned'})"
   ]
  },
  {
   "cell_type": "code",
   "execution_count": 360,
   "metadata": {
    "collapsed": true
   },
   "outputs": [],
   "source": [
    "# removing the overlapping columns before performing merging \n",
    "\n",
    "common_cols = list(set((data_with_directors_II.columns.tolist())).intersection(data_titles_with_genres.columns.tolist()))\n",
    "common_cols.remove('tconst')\n",
    "cols_to_keep = list(set(data_with_directors_II.columns.tolist()) - set(common_cols))\n",
    "\n",
    "# merging\n",
    "data_titles_with_genres_and_dirs = pd.merge(data_titles_with_genres, data_with_directors_II[cols_to_keep], on='tconst', how='left')"
   ]
  },
  {
   "cell_type": "code",
   "execution_count": 361,
   "metadata": {
    "collapsed": false
   },
   "outputs": [],
   "source": [
    "data_titles_with_genres_and_dirs = data_titles_with_genres_and_dirs.dropna()\n",
    "data_titles_with_genres_and_dirs = pd.merge(ratings_movie, data_titles_with_genres_and_dirs, on='tconst', how='left')\n",
    "data_titles_with_genres_and_dirs = data_titles_with_genres_and_dirs.drop(axis=1, columns=['tconst', 'primaryTitle', 'originalTitle', 'endYear', 'titleType'])\n",
    "data_titles_with_genres_and_dirs = removeRowsWithEmptyValues(data_titles_with_genres_and_dirs)"
   ]
  },
  {
   "cell_type": "code",
   "execution_count": 427,
   "metadata": {
    "collapsed": false
   },
   "outputs": [
    {
     "data": {
      "text/html": [
       "<div>\n",
       "<style scoped>\n",
       "    .dataframe tbody tr th:only-of-type {\n",
       "        vertical-align: middle;\n",
       "    }\n",
       "\n",
       "    .dataframe tbody tr th {\n",
       "        vertical-align: top;\n",
       "    }\n",
       "\n",
       "    .dataframe thead th {\n",
       "        text-align: right;\n",
       "    }\n",
       "</style>\n",
       "<table border=\"1\" class=\"dataframe\">\n",
       "  <thead>\n",
       "    <tr style=\"text-align: right;\">\n",
       "      <th></th>\n",
       "      <th>averageRating_x</th>\n",
       "      <th>numVotes_x</th>\n",
       "      <th>isAdult</th>\n",
       "      <th>startYear</th>\n",
       "      <th>runtimeMinutes</th>\n",
       "      <th>version_counts</th>\n",
       "      <th>Action</th>\n",
       "      <th>Adult</th>\n",
       "      <th>Adventure</th>\n",
       "      <th>Animation</th>\n",
       "      <th>...</th>\n",
       "      <th>nm0401680</th>\n",
       "      <th>nm0782947</th>\n",
       "      <th>nm0282984</th>\n",
       "      <th>nm0002194</th>\n",
       "      <th>nm0285946</th>\n",
       "      <th>nm0766211</th>\n",
       "      <th>nm0858873</th>\n",
       "      <th>nm0416258</th>\n",
       "      <th>nm0075318</th>\n",
       "      <th>nm0814469</th>\n",
       "    </tr>\n",
       "  </thead>\n",
       "  <tbody>\n",
       "    <tr>\n",
       "      <th>0</th>\n",
       "      <td>5.5</td>\n",
       "      <td>79</td>\n",
       "      <td>0.0</td>\n",
       "      <td>1894</td>\n",
       "      <td>45</td>\n",
       "      <td>3.0</td>\n",
       "      <td>0.0</td>\n",
       "      <td>0.0</td>\n",
       "      <td>0.0</td>\n",
       "      <td>0.0</td>\n",
       "      <td>...</td>\n",
       "      <td>0.0</td>\n",
       "      <td>0.0</td>\n",
       "      <td>0.0</td>\n",
       "      <td>0.0</td>\n",
       "      <td>0.0</td>\n",
       "      <td>0.0</td>\n",
       "      <td>0.0</td>\n",
       "      <td>0.0</td>\n",
       "      <td>0.0</td>\n",
       "      <td>0.0</td>\n",
       "    </tr>\n",
       "    <tr>\n",
       "      <th>1</th>\n",
       "      <td>5.2</td>\n",
       "      <td>291</td>\n",
       "      <td>0.0</td>\n",
       "      <td>1897</td>\n",
       "      <td>20</td>\n",
       "      <td>3.0</td>\n",
       "      <td>0.0</td>\n",
       "      <td>0.0</td>\n",
       "      <td>0.0</td>\n",
       "      <td>0.0</td>\n",
       "      <td>...</td>\n",
       "      <td>0.0</td>\n",
       "      <td>0.0</td>\n",
       "      <td>0.0</td>\n",
       "      <td>0.0</td>\n",
       "      <td>0.0</td>\n",
       "      <td>0.0</td>\n",
       "      <td>0.0</td>\n",
       "      <td>0.0</td>\n",
       "      <td>0.0</td>\n",
       "      <td>0.0</td>\n",
       "    </tr>\n",
       "    <tr>\n",
       "      <th>2</th>\n",
       "      <td>6.2</td>\n",
       "      <td>508</td>\n",
       "      <td>0.0</td>\n",
       "      <td>1906</td>\n",
       "      <td>70</td>\n",
       "      <td>4.0</td>\n",
       "      <td>0.0</td>\n",
       "      <td>0.0</td>\n",
       "      <td>0.0</td>\n",
       "      <td>0.0</td>\n",
       "      <td>...</td>\n",
       "      <td>0.0</td>\n",
       "      <td>0.0</td>\n",
       "      <td>0.0</td>\n",
       "      <td>0.0</td>\n",
       "      <td>0.0</td>\n",
       "      <td>0.0</td>\n",
       "      <td>0.0</td>\n",
       "      <td>0.0</td>\n",
       "      <td>0.0</td>\n",
       "      <td>0.0</td>\n",
       "    </tr>\n",
       "  </tbody>\n",
       "</table>\n",
       "<p>3 rows × 551 columns</p>\n",
       "</div>"
      ],
      "text/plain": [
       "   averageRating_x  numVotes_x  isAdult startYear runtimeMinutes  \\\n",
       "0              5.5          79      0.0      1894             45   \n",
       "1              5.2         291      0.0      1897             20   \n",
       "2              6.2         508      0.0      1906             70   \n",
       "\n",
       "   version_counts  Action  Adult  Adventure  Animation    ...      nm0401680  \\\n",
       "0             3.0     0.0    0.0        0.0        0.0    ...            0.0   \n",
       "1             3.0     0.0    0.0        0.0        0.0    ...            0.0   \n",
       "2             4.0     0.0    0.0        0.0        0.0    ...            0.0   \n",
       "\n",
       "   nm0782947  nm0282984  nm0002194  nm0285946  nm0766211  nm0858873  \\\n",
       "0        0.0        0.0        0.0        0.0        0.0        0.0   \n",
       "1        0.0        0.0        0.0        0.0        0.0        0.0   \n",
       "2        0.0        0.0        0.0        0.0        0.0        0.0   \n",
       "\n",
       "   nm0416258  nm0075318  nm0814469  \n",
       "0        0.0        0.0        0.0  \n",
       "1        0.0        0.0        0.0  \n",
       "2        0.0        0.0        0.0  \n",
       "\n",
       "[3 rows x 551 columns]"
      ]
     },
     "execution_count": 427,
     "metadata": {},
     "output_type": "execute_result"
    }
   ],
   "source": [
    "# data_titles_with_genres_and_dirs = data_titles_with_genres_and_dirs.dropna().reset_index(drop=True)\n",
    "data_titles_with_genres_and_dirs.head(3)"
   ]
  },
  {
   "cell_type": "markdown",
   "metadata": {},
   "source": [
    "##### 8(b) data preparation for training"
   ]
  },
  {
   "cell_type": "code",
   "execution_count": 433,
   "metadata": {
    "collapsed": false
   },
   "outputs": [],
   "source": [
    "# Creating train and test datasets and running the model\n",
    "\n",
    "X, y = prepareData(data_titles_with_genres_and_dirs, 'averageRating_x')\n",
    "# Standardizing the datasets:\n",
    "scaler = StandardScaler()\n",
    "scaler.fit(X)\n",
    "X_std = scaler.transform(X)\n",
    "\n",
    "X_train, X_test, y_train, y_test = train_test_split(X_std, y, test_size=0.2, random_state=42)"
   ]
  },
  {
   "cell_type": "markdown",
   "metadata": {},
   "source": [
    "##### 8(c) Training phase"
   ]
  },
  {
   "cell_type": "code",
   "execution_count": 437,
   "metadata": {
    "collapsed": false
   },
   "outputs": [
    {
     "name": "stdout",
     "output_type": "stream",
     "text": [
      "lasso - done\n",
      "ridge - done\n"
     ]
    }
   ],
   "source": [
    "alpha_range = np.exp(np.arange(0.001,-10,-0.75))\n",
    "lasso_score_list = CrossValidationOnASelectedModel('Lasso', X_train, y_train, alpha_range, 5)\n",
    "print(\"lasso - done\")\n",
    "ridge_score_list = CrossValidationOnASelectedModel('Ridge', X_train, y_train, alpha_range, 5)\n",
    "print(\"ridge - done\")\n",
    "lasso_best_alpha_genres_and_dirs = getBestHyperparameterVal(lasso_score_list, alpha_range)\n",
    "ridge_best_alpha_genres_and_dirs = getBestHyperparameterVal(ridge_score_list, alpha_range)"
   ]
  },
  {
   "cell_type": "markdown",
   "metadata": {},
   "source": [
    "<b> (i) training ols, lasso, ridge"
   ]
  },
  {
   "cell_type": "code",
   "execution_count": 438,
   "metadata": {
    "collapsed": false
   },
   "outputs": [
    {
     "name": "stdout",
     "output_type": "stream",
     "text": [
      "The mean squared error for LinearRegression is : 1.35530731487\n",
      "The r2 score for LinearRegression is : 0.216815563398\n",
      "The mean squared error for Lasso is : 1.38984467377\n",
      "The r2 score for Lasso is : 0.196857638227\n",
      "The mean squared error for Ridge is : 1.35530718231\n",
      "The r2 score for Ridge is : 0.216815639998\n"
     ]
    }
   ],
   "source": [
    "ols = trainAndTestAModel('LinearRegression', -1, X_train, y_train, X_test, y_test, False)\n",
    "lasso_model_genres_and_dirs = trainAndTestAModel('Lasso', lasso_best_alpha_genres_and_dirs, X_train, y_train, X_test, y_test, True)\n",
    "ridge_model_genres_and_dirs = trainAndTestAModel('Ridge', ridge_best_alpha_genres_and_dirs, X_train, y_train, X_test, y_test, True)"
   ]
  },
  {
   "cell_type": "markdown",
   "metadata": {},
   "source": [
    "<b> (ii) training rf, and adboost"
   ]
  },
  {
   "cell_type": "markdown",
   "metadata": {},
   "source": [
    "<b> cross validating random forest and adaboost trees takes a lot of time (more than 2 hours).Hence I am using the n_estimators value that performed the best in section 7\n",
    "<ul><li>Random forests = 150</li><li>adaboost = 10</li></ul>"
   ]
  },
  {
   "cell_type": "code",
   "execution_count": 439,
   "metadata": {
    "collapsed": false
   },
   "outputs": [
    {
     "name": "stdout",
     "output_type": "stream",
     "text": [
      "The mean squared error for AdaBoostRegressor is : 1.45765872338\n",
      "The r2 score for AdaBoostRegressor is : 0.157670283699\n",
      "The mean squared error for RandomForestRegressor is : 1.27379252867\n",
      "The r2 score for RandomForestRegressor is : 0.263920091796\n"
     ]
    }
   ],
   "source": [
    "adaboost_regressor_model_genres_and_dirs = trainAndTestAModelII('AdaBoostRegressor', 10, X_train, y_train, X_test, y_test)\n",
    "rf_regressor_model_genres_and_dirs = trainAndTestAModelII('RandomForestRegressor', 150, X_train, y_train, X_test, y_test)"
   ]
  },
  {
   "cell_type": "markdown",
   "metadata": {},
   "source": [
    "<b>r2 score increased sligthly from 0.25 (with genres data) to 0.26 (with genres and director data)"
   ]
  },
  {
   "cell_type": "markdown",
   "metadata": {},
   "source": [
    "<ul><li><b>Plotting the top 10 siginificant features using the 'feature__importance_' attribute of random forests regression\n"
   ]
  },
  {
   "cell_type": "code",
   "execution_count": 453,
   "metadata": {
    "collapsed": false
   },
   "outputs": [
    {
     "data": {
      "image/png": "[encoded data removed]",
      "text/plain": [
       "<matplotlib.figure.Figure at 0x2c8a9880198>"
      ]
     },
     "metadata": {},
     "output_type": "display_data"
    }
   ],
   "source": [
    "feature_imp_coeff = rf_regressor_model_genres_and_dirs.feature_importances_\n",
    "\n",
    "plt.figure(figsize=(14,6))\n",
    "top_n_idx = feature_imp_coeff.argsort()[-20:]\n",
    "cols = data_titles_with_genres_and_dirs.columns.tolist()\n",
    "cols.remove('averageRating_x')\n",
    "top_n_feat = np.array(cols)[top_n_idx]\n",
    "for i in range(len(top_n_feat)):\n",
    "    if top_n_feat[i] in list(name_basics['nconst']):\n",
    "        top_n_feat[i] = name_basics[name_basics['nconst']==top_n_feat[i]]['primaryName'].iloc[0]\n",
    "\n",
    "plt.bar(np.arange(0,len(top_n_idx), 1), feature_imp_coeff[top_n_idx])\n",
    "plt.xticks(np.arange(0,len(top_n_idx), 1), top_n_feat, rotation=35)\n",
    "plt.show()"
   ]
  },
  {
   "cell_type": "markdown",
   "metadata": {},
   "source": [
    "<b><ul><li>As expected, genres again have higher coefficients compared to directors data</li><li>Hence, merging genres and directors increased r2 score very slightly from 0.25 to 0.26</li></ul>"
   ]
  },
  {
   "cell_type": "markdown",
   "metadata": {},
   "source": [
    "## 9. Visualizing using the best model (plotting actuals vs predicted)"
   ]
  },
  {
   "cell_type": "markdown",
   "metadata": {},
   "source": [
    "<b> The model that performed the best is random forest regressor with 150 trees. Visually, its performce on the test set is shown below:"
   ]
  },
  {
   "cell_type": "code",
   "execution_count": 460,
   "metadata": {
    "collapsed": false
   },
   "outputs": [
    {
     "data": {
      "image/png": "[encoded data removed]",
      "text/plain": [
       "<matplotlib.figure.Figure at 0x2c8a8d9cef0>"
      ]
     },
     "metadata": {},
     "output_type": "display_data"
    }
   ],
   "source": [
    "y_pred = rf_regressor_model_genres_and_dirs.predict(X_test)\n",
    "plot_data = dict(zip(y_test, y_pred))\n",
    "keys = sorted(y_test)\n",
    "vals = []\n",
    "for key in keys:\n",
    "    vals.append(plot_data[key])\n",
    "    \n",
    "plt.figure(figsize=(18,6))\n",
    "plt.xlabel('data points')\n",
    "plt.title('Plotting actuals vs predicted on test data set')\n",
    "# plt.scatter(np.arange(0,len(keys),1),keys)\n",
    "# plt.scatter(keys, vals)\n",
    "plt.plot(np.arange(0,len(keys),1),keys, color='skyblue', linewidth=4, label='actuals')\n",
    "plt.plot(np.arange(0,len(vals),1),vals, color='olive', linewidth=4, label='predicted')\n",
    "plt.legend()\n",
    "plt.show()"
   ]
  },
  {
   "cell_type": "markdown",
   "metadata": {},
   "source": [
    "<b> We can see that the plot for actuals and predicted values are superimposed. Hence, visually, the model seens to be performing remarkably well."
   ]
  },
  {
   "cell_type": "markdown",
   "metadata": {},
   "source": [
    "## 10. Conclusion:\n",
    "\n",
    "<b><ul><li>From above analysis of imdb data, we can say that genres of the movie greatly influence it's rating. Directors of the movie, are also a useful indicator for the movie ratings, but not as significant as genres.</li>\n",
    "<li>The r2 score increments from 0.01 (in the baseline model) to 0.03, 0.25 and finally to 0.26 by adding important features such as directors data info, genre info, and both of genres and director info.</li>\n",
    "<li>The final maximum r2 score obtained is <u>0.26 which is nearly 26 times higher than the baseline r2 score of 0.01</u></li></ul>"
   ]
  },
  {
   "cell_type": "markdown",
   "metadata": {},
   "source": [
    "## 11. Future Work"
   ]
  },
  {
   "cell_type": "markdown",
   "metadata": {},
   "source": [
    "<ol>\n",
    "<li> While procesing on the dataset (with directors info), I wanted to use Random Forest and Adaboost regression. But they were taking a lot of time to complete train and I had to forgo them</li>\n",
    "<li> I wanted to add actors info as well as presence of certain actors in the movie greatly affects the movie ratings. For example: a movie which has Brad Pitt, Will Smith or Tom Hanks as their actor(s), the movie will recieve a relatively positive response from the audience. </li>\n",
    "<li> While processing on the dataset (with genres data), I wanted to experiment with more n_estimator range values. I strongly feel that experimenting with more number of estimators in random forests regression, would have greatly increased the r2 score. This can be seen in the above plot of Negative MSE vs n_estimators  </li>\n",
    "<li> Perform dimensionality reduction techniques like PCA or t-SNE before the training process and compare the performance </li>\n",
    "<li> Explore other datasets which contains the reviews for the movies. Performing review analysis can give us more information by understanding the sentiment attached with the reviews  </li>\n",
    "</ol>"
   ]
  }
 ],
 "metadata": {
  "anaconda-cloud": {},
  "kernelspec": {
   "display_name": "Python 3",
   "language": "python",
   "name": "python3"
  },
  "language_info": {
   "codemirror_mode": {
    "name": "ipython",
    "version": 3
   },
   "file_extension": ".py",
   "mimetype": "text/x-python",
   "name": "python",
   "nbconvert_exporter": "python",
   "pygments_lexer": "ipython3",
   "version": "3.5.4"
  }
 },
 "nbformat": 4,
 "nbformat_minor": 1
}
